{
 "cells": [
  {
   "cell_type": "markdown",
   "id": "ea6baadf",
   "metadata": {},
   "source": [
    "# DECODING DATA SCIENCE"
   ]
  },
  {
   "cell_type": "markdown",
   "id": "7fc556bb",
   "metadata": {},
   "source": [
    "### AIM"
   ]
  },
  {
   "cell_type": "markdown",
   "id": "a6efea54",
   "metadata": {},
   "source": [
    "In this statistics project, we are trying to implement various statistical techniques to prioritize the skill sets of a Data Science Professional.Through this,we are trying to give better insights to aspiring Data Science Professionals on which skills they have to work upon."
   ]
  },
  {
   "cell_type": "markdown",
   "id": "82a8f3da",
   "metadata": {},
   "source": [
    "### DATA "
   ]
  },
  {
   "cell_type": "markdown",
   "id": "a579a44c",
   "metadata": {},
   "source": [
    "As a data sample, we conducted a  survey on working professionals.The different job roles included are Data analyst, Data Scientist,Business Analyst and Data Engineer.We asked them to rate the different skills required  as per level of importance on a scale of 1-5."
   ]
  },
  {
   "cell_type": "markdown",
   "id": "993627f8",
   "metadata": {},
   "source": [
    "### BREAKDOWN"
   ]
  },
  {
   "cell_type": "markdown",
   "id": "5cb5ec89",
   "metadata": {},
   "source": [
    "#### 1.Importing Libraries\n",
    "#### 2.Basic Methodology\n",
    "#### 3.Estimation of Population mean at 95% Confidence Level\n",
    "#### 4.Kurkswallis Test and Dunn's Test on each skill set under each Job Role\n",
    "#### 5.Hypothesis Testing to compare skills of two job roles"
   ]
  },
  {
   "cell_type": "markdown",
   "id": "d9e3559d",
   "metadata": {},
   "source": [
    "### IMPORTING LIBRARIES"
   ]
  },
  {
   "cell_type": "code",
   "execution_count": 72,
   "id": "b75e3318",
   "metadata": {},
   "outputs": [],
   "source": [
    "import pandas as pd \n",
    "import seaborn as sns\n",
    "import matplotlib.pyplot as plt\n",
    "import math\n",
    "import scipy.stats as sp\n",
    "from statsmodels.formula.api import ols\n",
    "import statsmodels.api as sm\n",
    "from statsmodels.stats.multicomp import pairwise_tukeyhsd\n"
   ]
  },
  {
   "cell_type": "markdown",
   "id": "ab9c8857",
   "metadata": {},
   "source": [
    "## BASIC METHODOLOGY"
   ]
  },
  {
   "cell_type": "markdown",
   "id": "7c262487",
   "metadata": {},
   "source": [
    "### The data consists of the responses of Professionals working as Business Analysts,Data Analysts and Data Scientists regarding the importance of each skill on a scale of 5.\n",
    "\n",
    "### The techniques used for analysis is:\n",
    "\n",
    "### 1.Using Estimation on each column to calculate the confidence interval of mean of each population with 95%confidence level.\n",
    "\n",
    "### 2.Using Kruskalwallis Test to check whether any skill is statistically significant from the other for a particular job role.Post hoc pairwise test for multiple comparisons of mean rank sums (Dunn’s test). It is used after Kruskal-Wallis one-way analysis of variance by ranks to do pairwise comparisons of each group\n",
    "\n",
    "### 3.Using hypothesis testing to compare two populations ( DATA ANALYST & DATA SCIENTIST) to gather an idea if there is significant difference between both roles on the basis of mastering of the above skills."
   ]
  },
  {
   "cell_type": "markdown",
   "id": "0e6e7b47",
   "metadata": {},
   "source": [
    "# ESTIMATION OF EACH SAMPLE TO CALCULATE THE POPULATION MEAN WITH 95% CONFIDENCE LEVEL"
   ]
  },
  {
   "cell_type": "markdown",
   "id": "a8276e6c",
   "metadata": {},
   "source": [
    "## PYTHON CODE FOR CONFIDENCE INTERVAL CALCULATION"
   ]
  },
  {
   "cell_type": "code",
   "execution_count": 73,
   "id": "501c1b61",
   "metadata": {},
   "outputs": [
    {
     "name": "stdout",
     "output_type": "stream",
     "text": [
      "Critical t-value: 2.228\n",
      "Margin of Error: 0.346\n",
      "Confidence Interval: [3.071,3.763]\n",
      "The 95.0% confidence interval for the population mean is:\n",
      "between 3.071 and 3.763\n"
     ]
    }
   ],
   "source": [
    "import scipy.stats as stats\n",
    "import math\n",
    "\n",
    "# Specify sample mean (x_bar), sample standard deviation (s), sample size (n) and confidence level\n",
    "x_bar =3.4167\n",
    "s =0.5149\n",
    "n = 11\n",
    "confidence_level = 0.95\n",
    "\n",
    "# Calculate alpha, degrees of freedom (df), the critical t-value, and the margin of error\n",
    "alpha = (1-confidence_level)\n",
    "df = n - 1\n",
    "standard_error = s/math.sqrt(n)\n",
    "critical_t = stats.t.ppf(1-alpha/2, df)\n",
    "margin_of_error = critical_t * standard_error\n",
    "\n",
    "# Calculate the lower and upper bound of the confidence interval\n",
    "lower_bound = x_bar - margin_of_error\n",
    "upper_bound = x_bar + margin_of_error\n",
    "\n",
    "# Print the results\n",
    "print(\"Critical t-value: {:.3f}\".format(critical_t))\n",
    "print(\"Margin of Error: {:.3f}\".format(margin_of_error))\n",
    "print(\"Confidence Interval: [{:.3f},{:.3f}]\".format(lower_bound,upper_bound))\n",
    "print(\"The {:.1%} confidence interval for the population mean is:\".format(confidence_level))\n",
    "print(\"between {:.3f} and {:.3f}\".format(lower_bound,upper_bound))"
   ]
  },
  {
   "cell_type": "markdown",
   "id": "ea93eb9e",
   "metadata": {},
   "source": [
    "### BUSINESS ANALYST DATA"
   ]
  },
  {
   "cell_type": "code",
   "execution_count": 76,
   "id": "2bafead5",
   "metadata": {},
   "outputs": [],
   "source": [
    "bad=pd.read_csv('C:\\\\Users\\\\USER\\\\Desktop\\\\BUSINESS ANALYST CONFIDENCE INTERVALS.csv')"
   ]
  },
  {
   "cell_type": "code",
   "execution_count": 77,
   "id": "734ad35e",
   "metadata": {},
   "outputs": [
    {
     "data": {
      "text/html": [
       "<div>\n",
       "<style scoped>\n",
       "    .dataframe tbody tr th:only-of-type {\n",
       "        vertical-align: middle;\n",
       "    }\n",
       "\n",
       "    .dataframe tbody tr th {\n",
       "        vertical-align: top;\n",
       "    }\n",
       "\n",
       "    .dataframe thead th {\n",
       "        text-align: right;\n",
       "    }\n",
       "</style>\n",
       "<table border=\"1\" class=\"dataframe\">\n",
       "  <thead>\n",
       "    <tr style=\"text-align: right;\">\n",
       "      <th></th>\n",
       "      <th>BUSINESS ANALYST</th>\n",
       "      <th>CRITICAL T-VALUE</th>\n",
       "      <th>MARGIN OF ERROR</th>\n",
       "      <th>CONFIDENCE INTERVAL</th>\n",
       "    </tr>\n",
       "  </thead>\n",
       "  <tbody>\n",
       "    <tr>\n",
       "      <th>0</th>\n",
       "      <td>PYTHON</td>\n",
       "      <td>2.228</td>\n",
       "      <td>0.314</td>\n",
       "      <td>[1.413,2.041]</td>\n",
       "    </tr>\n",
       "    <tr>\n",
       "      <th>1</th>\n",
       "      <td>STATS AND ML</td>\n",
       "      <td>2.228</td>\n",
       "      <td>0.621</td>\n",
       "      <td>[1.015,2.257]</td>\n",
       "    </tr>\n",
       "    <tr>\n",
       "      <th>2</th>\n",
       "      <td>ANALYTICAL</td>\n",
       "      <td>2.228</td>\n",
       "      <td>0.752</td>\n",
       "      <td>[2.884,4.389]</td>\n",
       "    </tr>\n",
       "    <tr>\n",
       "      <th>3</th>\n",
       "      <td>COMMUNICATION</td>\n",
       "      <td>2.228</td>\n",
       "      <td>0.621</td>\n",
       "      <td>[4.016,5.257]</td>\n",
       "    </tr>\n",
       "    <tr>\n",
       "      <th>4</th>\n",
       "      <td>DOMAIN</td>\n",
       "      <td>2.228</td>\n",
       "      <td>0.520</td>\n",
       "      <td>[2.48,3.52]</td>\n",
       "    </tr>\n",
       "    <tr>\n",
       "      <th>5</th>\n",
       "      <td>VISUALISATION</td>\n",
       "      <td>2.228</td>\n",
       "      <td>0.887</td>\n",
       "      <td>[1.923,3.697]</td>\n",
       "    </tr>\n",
       "    <tr>\n",
       "      <th>6</th>\n",
       "      <td>BIG DATA</td>\n",
       "      <td>2.228</td>\n",
       "      <td>0.339</td>\n",
       "      <td>[1.021,1.679]</td>\n",
       "    </tr>\n",
       "    <tr>\n",
       "      <th>7</th>\n",
       "      <td>SQL</td>\n",
       "      <td>2.228</td>\n",
       "      <td>0.471</td>\n",
       "      <td>[1.438,2.380]</td>\n",
       "    </tr>\n",
       "  </tbody>\n",
       "</table>\n",
       "</div>"
      ],
      "text/plain": [
       "  BUSINESS ANALYST  CRITICAL T-VALUE  MARGIN OF ERROR CONFIDENCE INTERVAL\n",
       "0           PYTHON             2.228            0.314       [1.413,2.041]\n",
       "1     STATS AND ML             2.228            0.621       [1.015,2.257]\n",
       "2       ANALYTICAL             2.228            0.752       [2.884,4.389]\n",
       "3    COMMUNICATION             2.228            0.621       [4.016,5.257]\n",
       "4           DOMAIN             2.228            0.520         [2.48,3.52]\n",
       "5    VISUALISATION             2.228            0.887       [1.923,3.697]\n",
       "6         BIG DATA             2.228            0.339       [1.021,1.679]\n",
       "7              SQL             2.228            0.471       [1.438,2.380]"
      ]
     },
     "execution_count": 77,
     "metadata": {},
     "output_type": "execute_result"
    }
   ],
   "source": [
    "bad"
   ]
  },
  {
   "cell_type": "code",
   "execution_count": 78,
   "id": "cd4b95a3",
   "metadata": {},
   "outputs": [
    {
     "data": {
      "text/html": [
       "<div>\n",
       "<style scoped>\n",
       "    .dataframe tbody tr th:only-of-type {\n",
       "        vertical-align: middle;\n",
       "    }\n",
       "\n",
       "    .dataframe tbody tr th {\n",
       "        vertical-align: top;\n",
       "    }\n",
       "\n",
       "    .dataframe thead th {\n",
       "        text-align: right;\n",
       "    }\n",
       "</style>\n",
       "<table border=\"1\" class=\"dataframe\">\n",
       "  <thead>\n",
       "    <tr style=\"text-align: right;\">\n",
       "      <th></th>\n",
       "      <th>python</th>\n",
       "      <th>stats</th>\n",
       "      <th>analytical</th>\n",
       "      <th>communication</th>\n",
       "      <th>domain</th>\n",
       "      <th>visualisation</th>\n",
       "      <th>big data</th>\n",
       "      <th>sql</th>\n",
       "    </tr>\n",
       "  </thead>\n",
       "  <tbody>\n",
       "    <tr>\n",
       "      <th>count</th>\n",
       "      <td>11.000000</td>\n",
       "      <td>11.000000</td>\n",
       "      <td>11.000000</td>\n",
       "      <td>11.000000</td>\n",
       "      <td>11.000000</td>\n",
       "      <td>11.000000</td>\n",
       "      <td>11.000000</td>\n",
       "      <td>11.000000</td>\n",
       "    </tr>\n",
       "    <tr>\n",
       "      <th>mean</th>\n",
       "      <td>1.727273</td>\n",
       "      <td>1.636364</td>\n",
       "      <td>3.636364</td>\n",
       "      <td>4.363636</td>\n",
       "      <td>3.000000</td>\n",
       "      <td>2.818182</td>\n",
       "      <td>1.363636</td>\n",
       "      <td>1.909091</td>\n",
       "    </tr>\n",
       "    <tr>\n",
       "      <th>std</th>\n",
       "      <td>0.467099</td>\n",
       "      <td>0.924416</td>\n",
       "      <td>1.120065</td>\n",
       "      <td>0.924416</td>\n",
       "      <td>0.774597</td>\n",
       "      <td>1.328020</td>\n",
       "      <td>0.504525</td>\n",
       "      <td>0.700649</td>\n",
       "    </tr>\n",
       "    <tr>\n",
       "      <th>min</th>\n",
       "      <td>1.000000</td>\n",
       "      <td>1.000000</td>\n",
       "      <td>2.000000</td>\n",
       "      <td>2.000000</td>\n",
       "      <td>2.000000</td>\n",
       "      <td>1.000000</td>\n",
       "      <td>1.000000</td>\n",
       "      <td>1.000000</td>\n",
       "    </tr>\n",
       "    <tr>\n",
       "      <th>25%</th>\n",
       "      <td>1.500000</td>\n",
       "      <td>1.000000</td>\n",
       "      <td>3.000000</td>\n",
       "      <td>4.000000</td>\n",
       "      <td>2.500000</td>\n",
       "      <td>2.000000</td>\n",
       "      <td>1.000000</td>\n",
       "      <td>1.500000</td>\n",
       "    </tr>\n",
       "    <tr>\n",
       "      <th>50%</th>\n",
       "      <td>2.000000</td>\n",
       "      <td>1.000000</td>\n",
       "      <td>4.000000</td>\n",
       "      <td>5.000000</td>\n",
       "      <td>3.000000</td>\n",
       "      <td>3.000000</td>\n",
       "      <td>1.000000</td>\n",
       "      <td>2.000000</td>\n",
       "    </tr>\n",
       "    <tr>\n",
       "      <th>75%</th>\n",
       "      <td>2.000000</td>\n",
       "      <td>2.000000</td>\n",
       "      <td>4.500000</td>\n",
       "      <td>5.000000</td>\n",
       "      <td>3.500000</td>\n",
       "      <td>4.000000</td>\n",
       "      <td>2.000000</td>\n",
       "      <td>2.000000</td>\n",
       "    </tr>\n",
       "    <tr>\n",
       "      <th>max</th>\n",
       "      <td>2.000000</td>\n",
       "      <td>4.000000</td>\n",
       "      <td>5.000000</td>\n",
       "      <td>5.000000</td>\n",
       "      <td>4.000000</td>\n",
       "      <td>5.000000</td>\n",
       "      <td>2.000000</td>\n",
       "      <td>3.000000</td>\n",
       "    </tr>\n",
       "  </tbody>\n",
       "</table>\n",
       "</div>"
      ],
      "text/plain": [
       "          python      stats  analytical  communication     domain  \\\n",
       "count  11.000000  11.000000   11.000000      11.000000  11.000000   \n",
       "mean    1.727273   1.636364    3.636364       4.363636   3.000000   \n",
       "std     0.467099   0.924416    1.120065       0.924416   0.774597   \n",
       "min     1.000000   1.000000    2.000000       2.000000   2.000000   \n",
       "25%     1.500000   1.000000    3.000000       4.000000   2.500000   \n",
       "50%     2.000000   1.000000    4.000000       5.000000   3.000000   \n",
       "75%     2.000000   2.000000    4.500000       5.000000   3.500000   \n",
       "max     2.000000   4.000000    5.000000       5.000000   4.000000   \n",
       "\n",
       "       visualisation   big data        sql  \n",
       "count      11.000000  11.000000  11.000000  \n",
       "mean        2.818182   1.363636   1.909091  \n",
       "std         1.328020   0.504525   0.700649  \n",
       "min         1.000000   1.000000   1.000000  \n",
       "25%         2.000000   1.000000   1.500000  \n",
       "50%         3.000000   1.000000   2.000000  \n",
       "75%         4.000000   2.000000   2.000000  \n",
       "max         5.000000   2.000000   3.000000  "
      ]
     },
     "execution_count": 78,
     "metadata": {},
     "output_type": "execute_result"
    }
   ],
   "source": [
    "Data.describe()"
   ]
  },
  {
   "cell_type": "markdown",
   "id": "7eee345a",
   "metadata": {},
   "source": [
    "### DATA ANALYST DATA "
   ]
  },
  {
   "cell_type": "code",
   "execution_count": 79,
   "id": "59ac2f9b",
   "metadata": {},
   "outputs": [],
   "source": [
    "da=pd.read_csv('C:\\\\Users\\\\USER\\\\Desktop\\\\DATA ANALYST CONFIDENCE INTERVALS.csv')"
   ]
  },
  {
   "cell_type": "code",
   "execution_count": 80,
   "id": "49480324",
   "metadata": {},
   "outputs": [
    {
     "data": {
      "text/html": [
       "<div>\n",
       "<style scoped>\n",
       "    .dataframe tbody tr th:only-of-type {\n",
       "        vertical-align: middle;\n",
       "    }\n",
       "\n",
       "    .dataframe tbody tr th {\n",
       "        vertical-align: top;\n",
       "    }\n",
       "\n",
       "    .dataframe thead th {\n",
       "        text-align: right;\n",
       "    }\n",
       "</style>\n",
       "<table border=\"1\" class=\"dataframe\">\n",
       "  <thead>\n",
       "    <tr style=\"text-align: right;\">\n",
       "      <th></th>\n",
       "      <th>DATA ANALYST</th>\n",
       "      <th>CRITICAL T-VALUE</th>\n",
       "      <th>MARGIN OF ERROR</th>\n",
       "      <th>CONFIDENCE INTERVAL</th>\n",
       "    </tr>\n",
       "  </thead>\n",
       "  <tbody>\n",
       "    <tr>\n",
       "      <th>0</th>\n",
       "      <td>PYTHON</td>\n",
       "      <td>2.228</td>\n",
       "      <td>0.537</td>\n",
       "      <td>[2.823,3.897]</td>\n",
       "    </tr>\n",
       "    <tr>\n",
       "      <th>1</th>\n",
       "      <td>STATS AND ML</td>\n",
       "      <td>2.228</td>\n",
       "      <td>0.528</td>\n",
       "      <td>[2.192,3.248]</td>\n",
       "    </tr>\n",
       "    <tr>\n",
       "      <th>2</th>\n",
       "      <td>ANALYTICAL</td>\n",
       "      <td>2.228</td>\n",
       "      <td>0.520</td>\n",
       "      <td>[2.480,3.520]</td>\n",
       "    </tr>\n",
       "    <tr>\n",
       "      <th>3</th>\n",
       "      <td>COMMUNICATION</td>\n",
       "      <td>2.228</td>\n",
       "      <td>0.551</td>\n",
       "      <td>[2.903,4.005]</td>\n",
       "    </tr>\n",
       "    <tr>\n",
       "      <th>4</th>\n",
       "      <td>DOMAIN</td>\n",
       "      <td>2.228</td>\n",
       "      <td>0.621</td>\n",
       "      <td>[2.743,3.984]</td>\n",
       "    </tr>\n",
       "    <tr>\n",
       "      <th>5</th>\n",
       "      <td>VISUALISATION</td>\n",
       "      <td>2.228</td>\n",
       "      <td>0.725</td>\n",
       "      <td>[2.457,3.906]</td>\n",
       "    </tr>\n",
       "    <tr>\n",
       "      <th>6</th>\n",
       "      <td>BIG DATA</td>\n",
       "      <td>2.228</td>\n",
       "      <td>0.634</td>\n",
       "      <td>[1.457,2.725]</td>\n",
       "    </tr>\n",
       "    <tr>\n",
       "      <th>7</th>\n",
       "      <td>SQL</td>\n",
       "      <td>2.228</td>\n",
       "      <td>0.453</td>\n",
       "      <td>[3.183,4.089]</td>\n",
       "    </tr>\n",
       "  </tbody>\n",
       "</table>\n",
       "</div>"
      ],
      "text/plain": [
       "    DATA ANALYST  CRITICAL T-VALUE  MARGIN OF ERROR CONFIDENCE INTERVAL\n",
       "0         PYTHON             2.228            0.537       [2.823,3.897]\n",
       "1   STATS AND ML             2.228            0.528       [2.192,3.248]\n",
       "2     ANALYTICAL             2.228            0.520       [2.480,3.520]\n",
       "3  COMMUNICATION             2.228            0.551       [2.903,4.005]\n",
       "4         DOMAIN             2.228            0.621       [2.743,3.984]\n",
       "5  VISUALISATION             2.228            0.725       [2.457,3.906]\n",
       "6       BIG DATA             2.228            0.634       [1.457,2.725]\n",
       "7            SQL             2.228            0.453       [3.183,4.089]"
      ]
     },
     "execution_count": 80,
     "metadata": {},
     "output_type": "execute_result"
    }
   ],
   "source": [
    "da"
   ]
  },
  {
   "cell_type": "code",
   "execution_count": 81,
   "id": "2b60bddc",
   "metadata": {},
   "outputs": [
    {
     "data": {
      "text/html": [
       "<div>\n",
       "<style scoped>\n",
       "    .dataframe tbody tr th:only-of-type {\n",
       "        vertical-align: middle;\n",
       "    }\n",
       "\n",
       "    .dataframe tbody tr th {\n",
       "        vertical-align: top;\n",
       "    }\n",
       "\n",
       "    .dataframe thead th {\n",
       "        text-align: right;\n",
       "    }\n",
       "</style>\n",
       "<table border=\"1\" class=\"dataframe\">\n",
       "  <thead>\n",
       "    <tr style=\"text-align: right;\">\n",
       "      <th></th>\n",
       "      <th>python</th>\n",
       "      <th>stats</th>\n",
       "      <th>analytical</th>\n",
       "      <th>communication</th>\n",
       "      <th>domain</th>\n",
       "      <th>visualisation</th>\n",
       "      <th>big data</th>\n",
       "      <th>sql</th>\n",
       "    </tr>\n",
       "  </thead>\n",
       "  <tbody>\n",
       "    <tr>\n",
       "      <th>count</th>\n",
       "      <td>11.000000</td>\n",
       "      <td>11.000000</td>\n",
       "      <td>11.000000</td>\n",
       "      <td>11.000000</td>\n",
       "      <td>11.000000</td>\n",
       "      <td>11.000000</td>\n",
       "      <td>11.000000</td>\n",
       "      <td>11.000000</td>\n",
       "    </tr>\n",
       "    <tr>\n",
       "      <th>mean</th>\n",
       "      <td>3.363636</td>\n",
       "      <td>2.727273</td>\n",
       "      <td>3.000000</td>\n",
       "      <td>3.454545</td>\n",
       "      <td>3.363636</td>\n",
       "      <td>3.181818</td>\n",
       "      <td>2.090909</td>\n",
       "      <td>3.636364</td>\n",
       "    </tr>\n",
       "    <tr>\n",
       "      <th>std</th>\n",
       "      <td>0.809040</td>\n",
       "      <td>0.786245</td>\n",
       "      <td>0.774597</td>\n",
       "      <td>0.820200</td>\n",
       "      <td>0.924416</td>\n",
       "      <td>1.078720</td>\n",
       "      <td>0.943880</td>\n",
       "      <td>0.674200</td>\n",
       "    </tr>\n",
       "    <tr>\n",
       "      <th>min</th>\n",
       "      <td>2.000000</td>\n",
       "      <td>2.000000</td>\n",
       "      <td>2.000000</td>\n",
       "      <td>2.000000</td>\n",
       "      <td>2.000000</td>\n",
       "      <td>2.000000</td>\n",
       "      <td>1.000000</td>\n",
       "      <td>3.000000</td>\n",
       "    </tr>\n",
       "    <tr>\n",
       "      <th>25%</th>\n",
       "      <td>3.000000</td>\n",
       "      <td>2.000000</td>\n",
       "      <td>2.500000</td>\n",
       "      <td>3.000000</td>\n",
       "      <td>3.000000</td>\n",
       "      <td>2.000000</td>\n",
       "      <td>1.500000</td>\n",
       "      <td>3.000000</td>\n",
       "    </tr>\n",
       "    <tr>\n",
       "      <th>50%</th>\n",
       "      <td>3.000000</td>\n",
       "      <td>3.000000</td>\n",
       "      <td>3.000000</td>\n",
       "      <td>3.000000</td>\n",
       "      <td>3.000000</td>\n",
       "      <td>3.000000</td>\n",
       "      <td>2.000000</td>\n",
       "      <td>4.000000</td>\n",
       "    </tr>\n",
       "    <tr>\n",
       "      <th>75%</th>\n",
       "      <td>4.000000</td>\n",
       "      <td>3.000000</td>\n",
       "      <td>3.500000</td>\n",
       "      <td>4.000000</td>\n",
       "      <td>4.000000</td>\n",
       "      <td>4.000000</td>\n",
       "      <td>2.500000</td>\n",
       "      <td>4.000000</td>\n",
       "    </tr>\n",
       "    <tr>\n",
       "      <th>max</th>\n",
       "      <td>5.000000</td>\n",
       "      <td>4.000000</td>\n",
       "      <td>4.000000</td>\n",
       "      <td>5.000000</td>\n",
       "      <td>5.000000</td>\n",
       "      <td>5.000000</td>\n",
       "      <td>4.000000</td>\n",
       "      <td>5.000000</td>\n",
       "    </tr>\n",
       "  </tbody>\n",
       "</table>\n",
       "</div>"
      ],
      "text/plain": [
       "          python      stats  analytical  communication     domain  \\\n",
       "count  11.000000  11.000000   11.000000      11.000000  11.000000   \n",
       "mean    3.363636   2.727273    3.000000       3.454545   3.363636   \n",
       "std     0.809040   0.786245    0.774597       0.820200   0.924416   \n",
       "min     2.000000   2.000000    2.000000       2.000000   2.000000   \n",
       "25%     3.000000   2.000000    2.500000       3.000000   3.000000   \n",
       "50%     3.000000   3.000000    3.000000       3.000000   3.000000   \n",
       "75%     4.000000   3.000000    3.500000       4.000000   4.000000   \n",
       "max     5.000000   4.000000    4.000000       5.000000   5.000000   \n",
       "\n",
       "       visualisation   big data        sql  \n",
       "count      11.000000  11.000000  11.000000  \n",
       "mean        3.181818   2.090909   3.636364  \n",
       "std         1.078720   0.943880   0.674200  \n",
       "min         2.000000   1.000000   3.000000  \n",
       "25%         2.000000   1.500000   3.000000  \n",
       "50%         3.000000   2.000000   4.000000  \n",
       "75%         4.000000   2.500000   4.000000  \n",
       "max         5.000000   4.000000   5.000000  "
      ]
     },
     "execution_count": 81,
     "metadata": {},
     "output_type": "execute_result"
    }
   ],
   "source": [
    "Data1.describe()"
   ]
  },
  {
   "cell_type": "markdown",
   "id": "04000a09",
   "metadata": {},
   "source": [
    "### DATA SCIENTIST DATA"
   ]
  },
  {
   "cell_type": "code",
   "execution_count": 82,
   "id": "dae20da4",
   "metadata": {},
   "outputs": [],
   "source": [
    "ds=da=pd.read_csv('C:\\\\Users\\\\USER\\\\Desktop\\\\DATA SCIENTIST CONFIDENCE INTERVALS.csv')"
   ]
  },
  {
   "cell_type": "code",
   "execution_count": 83,
   "id": "49f7167a",
   "metadata": {},
   "outputs": [
    {
     "data": {
      "text/html": [
       "<div>\n",
       "<style scoped>\n",
       "    .dataframe tbody tr th:only-of-type {\n",
       "        vertical-align: middle;\n",
       "    }\n",
       "\n",
       "    .dataframe tbody tr th {\n",
       "        vertical-align: top;\n",
       "    }\n",
       "\n",
       "    .dataframe thead th {\n",
       "        text-align: right;\n",
       "    }\n",
       "</style>\n",
       "<table border=\"1\" class=\"dataframe\">\n",
       "  <thead>\n",
       "    <tr style=\"text-align: right;\">\n",
       "      <th></th>\n",
       "      <th>DATA SCIENTIST</th>\n",
       "      <th>CRITICAL T-VALUE</th>\n",
       "      <th>MARGIN OF ERROR</th>\n",
       "      <th>CONFIDENCE INTERVAL</th>\n",
       "    </tr>\n",
       "  </thead>\n",
       "  <tbody>\n",
       "    <tr>\n",
       "      <th>0</th>\n",
       "      <td>PYTHON</td>\n",
       "      <td>2.228</td>\n",
       "      <td>0.331</td>\n",
       "      <td>[3.336,3.998]</td>\n",
       "    </tr>\n",
       "    <tr>\n",
       "      <th>1</th>\n",
       "      <td>STATS AND ML</td>\n",
       "      <td>2.228</td>\n",
       "      <td>0.482</td>\n",
       "      <td>[3.685,4.649]</td>\n",
       "    </tr>\n",
       "    <tr>\n",
       "      <th>2</th>\n",
       "      <td>ANALYTICAL</td>\n",
       "      <td>2.228</td>\n",
       "      <td>0.405</td>\n",
       "      <td>[3.595,4.405]</td>\n",
       "    </tr>\n",
       "    <tr>\n",
       "      <th>3</th>\n",
       "      <td>COMMUNICATION</td>\n",
       "      <td>2.228</td>\n",
       "      <td>0.331</td>\n",
       "      <td>[4.002,4.664]</td>\n",
       "    </tr>\n",
       "    <tr>\n",
       "      <th>4</th>\n",
       "      <td>DOMAIN</td>\n",
       "      <td>2.228</td>\n",
       "      <td>0.345</td>\n",
       "      <td>[3.071,3.761]</td>\n",
       "    </tr>\n",
       "    <tr>\n",
       "      <th>5</th>\n",
       "      <td>VISUALISATION</td>\n",
       "      <td>2.228</td>\n",
       "      <td>0.482</td>\n",
       "      <td>[3.351,4.315]</td>\n",
       "    </tr>\n",
       "    <tr>\n",
       "      <th>6</th>\n",
       "      <td>BIG DATA</td>\n",
       "      <td>2.228</td>\n",
       "      <td>0.345</td>\n",
       "      <td>[2.738,3.428]</td>\n",
       "    </tr>\n",
       "    <tr>\n",
       "      <th>7</th>\n",
       "      <td>SQL</td>\n",
       "      <td>2.228</td>\n",
       "      <td>0.346</td>\n",
       "      <td>[3.071,3.763]</td>\n",
       "    </tr>\n",
       "  </tbody>\n",
       "</table>\n",
       "</div>"
      ],
      "text/plain": [
       "  DATA SCIENTIST  CRITICAL T-VALUE  MARGIN OF ERROR CONFIDENCE INTERVAL\n",
       "0         PYTHON             2.228            0.331       [3.336,3.998]\n",
       "1   STATS AND ML             2.228            0.482       [3.685,4.649]\n",
       "2     ANALYTICAL             2.228            0.405       [3.595,4.405]\n",
       "3  COMMUNICATION             2.228            0.331       [4.002,4.664]\n",
       "4         DOMAIN             2.228            0.345       [3.071,3.761]\n",
       "5  VISUALISATION             2.228            0.482       [3.351,4.315]\n",
       "6       BIG DATA             2.228            0.345       [2.738,3.428]\n",
       "7            SQL             2.228            0.346       [3.071,3.763]"
      ]
     },
     "execution_count": 83,
     "metadata": {},
     "output_type": "execute_result"
    }
   ],
   "source": [
    "ds"
   ]
  },
  {
   "cell_type": "code",
   "execution_count": 84,
   "id": "c8bd093a",
   "metadata": {},
   "outputs": [
    {
     "data": {
      "text/html": [
       "<div>\n",
       "<style scoped>\n",
       "    .dataframe tbody tr th:only-of-type {\n",
       "        vertical-align: middle;\n",
       "    }\n",
       "\n",
       "    .dataframe tbody tr th {\n",
       "        vertical-align: top;\n",
       "    }\n",
       "\n",
       "    .dataframe thead th {\n",
       "        text-align: right;\n",
       "    }\n",
       "</style>\n",
       "<table border=\"1\" class=\"dataframe\">\n",
       "  <thead>\n",
       "    <tr style=\"text-align: right;\">\n",
       "      <th></th>\n",
       "      <th>python</th>\n",
       "      <th>stats</th>\n",
       "      <th>analytical</th>\n",
       "      <th>communication</th>\n",
       "      <th>domain</th>\n",
       "      <th>visualisation</th>\n",
       "      <th>big data</th>\n",
       "      <th>sql</th>\n",
       "    </tr>\n",
       "  </thead>\n",
       "  <tbody>\n",
       "    <tr>\n",
       "      <th>count</th>\n",
       "      <td>12.000000</td>\n",
       "      <td>12.000000</td>\n",
       "      <td>12.000000</td>\n",
       "      <td>12.000000</td>\n",
       "      <td>12.000000</td>\n",
       "      <td>12.000000</td>\n",
       "      <td>12.000000</td>\n",
       "      <td>12.000000</td>\n",
       "    </tr>\n",
       "    <tr>\n",
       "      <th>mean</th>\n",
       "      <td>3.666667</td>\n",
       "      <td>4.166667</td>\n",
       "      <td>4.000000</td>\n",
       "      <td>4.333333</td>\n",
       "      <td>3.416667</td>\n",
       "      <td>3.833333</td>\n",
       "      <td>3.083333</td>\n",
       "      <td>3.416667</td>\n",
       "    </tr>\n",
       "    <tr>\n",
       "      <th>std</th>\n",
       "      <td>0.492366</td>\n",
       "      <td>0.717741</td>\n",
       "      <td>0.603023</td>\n",
       "      <td>0.492366</td>\n",
       "      <td>0.514929</td>\n",
       "      <td>0.717741</td>\n",
       "      <td>0.514929</td>\n",
       "      <td>0.514929</td>\n",
       "    </tr>\n",
       "    <tr>\n",
       "      <th>min</th>\n",
       "      <td>3.000000</td>\n",
       "      <td>3.000000</td>\n",
       "      <td>3.000000</td>\n",
       "      <td>4.000000</td>\n",
       "      <td>3.000000</td>\n",
       "      <td>3.000000</td>\n",
       "      <td>2.000000</td>\n",
       "      <td>3.000000</td>\n",
       "    </tr>\n",
       "    <tr>\n",
       "      <th>25%</th>\n",
       "      <td>3.000000</td>\n",
       "      <td>4.000000</td>\n",
       "      <td>4.000000</td>\n",
       "      <td>4.000000</td>\n",
       "      <td>3.000000</td>\n",
       "      <td>3.000000</td>\n",
       "      <td>3.000000</td>\n",
       "      <td>3.000000</td>\n",
       "    </tr>\n",
       "    <tr>\n",
       "      <th>50%</th>\n",
       "      <td>4.000000</td>\n",
       "      <td>4.000000</td>\n",
       "      <td>4.000000</td>\n",
       "      <td>4.000000</td>\n",
       "      <td>3.000000</td>\n",
       "      <td>4.000000</td>\n",
       "      <td>3.000000</td>\n",
       "      <td>3.000000</td>\n",
       "    </tr>\n",
       "    <tr>\n",
       "      <th>75%</th>\n",
       "      <td>4.000000</td>\n",
       "      <td>5.000000</td>\n",
       "      <td>4.000000</td>\n",
       "      <td>5.000000</td>\n",
       "      <td>4.000000</td>\n",
       "      <td>4.000000</td>\n",
       "      <td>3.000000</td>\n",
       "      <td>4.000000</td>\n",
       "    </tr>\n",
       "    <tr>\n",
       "      <th>max</th>\n",
       "      <td>4.000000</td>\n",
       "      <td>5.000000</td>\n",
       "      <td>5.000000</td>\n",
       "      <td>5.000000</td>\n",
       "      <td>4.000000</td>\n",
       "      <td>5.000000</td>\n",
       "      <td>4.000000</td>\n",
       "      <td>4.000000</td>\n",
       "    </tr>\n",
       "  </tbody>\n",
       "</table>\n",
       "</div>"
      ],
      "text/plain": [
       "          python      stats  analytical  communication     domain  \\\n",
       "count  12.000000  12.000000   12.000000      12.000000  12.000000   \n",
       "mean    3.666667   4.166667    4.000000       4.333333   3.416667   \n",
       "std     0.492366   0.717741    0.603023       0.492366   0.514929   \n",
       "min     3.000000   3.000000    3.000000       4.000000   3.000000   \n",
       "25%     3.000000   4.000000    4.000000       4.000000   3.000000   \n",
       "50%     4.000000   4.000000    4.000000       4.000000   3.000000   \n",
       "75%     4.000000   5.000000    4.000000       5.000000   4.000000   \n",
       "max     4.000000   5.000000    5.000000       5.000000   4.000000   \n",
       "\n",
       "       visualisation   big data        sql  \n",
       "count      12.000000  12.000000  12.000000  \n",
       "mean        3.833333   3.083333   3.416667  \n",
       "std         0.717741   0.514929   0.514929  \n",
       "min         3.000000   2.000000   3.000000  \n",
       "25%         3.000000   3.000000   3.000000  \n",
       "50%         4.000000   3.000000   3.000000  \n",
       "75%         4.000000   3.000000   4.000000  \n",
       "max         5.000000   4.000000   4.000000  "
      ]
     },
     "execution_count": 84,
     "metadata": {},
     "output_type": "execute_result"
    }
   ],
   "source": [
    "Data2.describe()"
   ]
  },
  {
   "cell_type": "markdown",
   "id": "6f9c9f84",
   "metadata": {},
   "source": [
    "# 3. LOADING BUSINESS ANALYSTS RESPONSES"
   ]
  },
  {
   "cell_type": "code",
   "execution_count": 85,
   "id": "61dc2e92",
   "metadata": {},
   "outputs": [],
   "source": [
    "Data = pd.read_csv('C:\\\\Users\\\\USER\\\\Desktop\\\\business analyst data.csv')"
   ]
  },
  {
   "cell_type": "code",
   "execution_count": 86,
   "id": "03e8de19",
   "metadata": {
    "scrolled": true
   },
   "outputs": [
    {
     "data": {
      "text/html": [
       "<div>\n",
       "<style scoped>\n",
       "    .dataframe tbody tr th:only-of-type {\n",
       "        vertical-align: middle;\n",
       "    }\n",
       "\n",
       "    .dataframe tbody tr th {\n",
       "        vertical-align: top;\n",
       "    }\n",
       "\n",
       "    .dataframe thead th {\n",
       "        text-align: right;\n",
       "    }\n",
       "</style>\n",
       "<table border=\"1\" class=\"dataframe\">\n",
       "  <thead>\n",
       "    <tr style=\"text-align: right;\">\n",
       "      <th></th>\n",
       "      <th>python</th>\n",
       "      <th>stats</th>\n",
       "      <th>analytical</th>\n",
       "      <th>communication</th>\n",
       "      <th>domain</th>\n",
       "      <th>visualisation</th>\n",
       "      <th>big data</th>\n",
       "      <th>sql</th>\n",
       "    </tr>\n",
       "  </thead>\n",
       "  <tbody>\n",
       "    <tr>\n",
       "      <th>0</th>\n",
       "      <td>2</td>\n",
       "      <td>2</td>\n",
       "      <td>2</td>\n",
       "      <td>2</td>\n",
       "      <td>2</td>\n",
       "      <td>2</td>\n",
       "      <td>2</td>\n",
       "      <td>2</td>\n",
       "    </tr>\n",
       "    <tr>\n",
       "      <th>1</th>\n",
       "      <td>2</td>\n",
       "      <td>4</td>\n",
       "      <td>5</td>\n",
       "      <td>5</td>\n",
       "      <td>3</td>\n",
       "      <td>2</td>\n",
       "      <td>2</td>\n",
       "      <td>3</td>\n",
       "    </tr>\n",
       "    <tr>\n",
       "      <th>2</th>\n",
       "      <td>2</td>\n",
       "      <td>2</td>\n",
       "      <td>2</td>\n",
       "      <td>5</td>\n",
       "      <td>3</td>\n",
       "      <td>3</td>\n",
       "      <td>2</td>\n",
       "      <td>2</td>\n",
       "    </tr>\n",
       "    <tr>\n",
       "      <th>3</th>\n",
       "      <td>2</td>\n",
       "      <td>1</td>\n",
       "      <td>3</td>\n",
       "      <td>4</td>\n",
       "      <td>3</td>\n",
       "      <td>4</td>\n",
       "      <td>1</td>\n",
       "      <td>2</td>\n",
       "    </tr>\n",
       "    <tr>\n",
       "      <th>4</th>\n",
       "      <td>2</td>\n",
       "      <td>1</td>\n",
       "      <td>3</td>\n",
       "      <td>5</td>\n",
       "      <td>4</td>\n",
       "      <td>5</td>\n",
       "      <td>1</td>\n",
       "      <td>3</td>\n",
       "    </tr>\n",
       "    <tr>\n",
       "      <th>5</th>\n",
       "      <td>2</td>\n",
       "      <td>2</td>\n",
       "      <td>4</td>\n",
       "      <td>5</td>\n",
       "      <td>3</td>\n",
       "      <td>1</td>\n",
       "      <td>1</td>\n",
       "      <td>1</td>\n",
       "    </tr>\n",
       "    <tr>\n",
       "      <th>6</th>\n",
       "      <td>1</td>\n",
       "      <td>1</td>\n",
       "      <td>3</td>\n",
       "      <td>4</td>\n",
       "      <td>2</td>\n",
       "      <td>1</td>\n",
       "      <td>1</td>\n",
       "      <td>2</td>\n",
       "    </tr>\n",
       "    <tr>\n",
       "      <th>7</th>\n",
       "      <td>1</td>\n",
       "      <td>2</td>\n",
       "      <td>5</td>\n",
       "      <td>5</td>\n",
       "      <td>2</td>\n",
       "      <td>4</td>\n",
       "      <td>1</td>\n",
       "      <td>2</td>\n",
       "    </tr>\n",
       "    <tr>\n",
       "      <th>8</th>\n",
       "      <td>2</td>\n",
       "      <td>1</td>\n",
       "      <td>4</td>\n",
       "      <td>4</td>\n",
       "      <td>4</td>\n",
       "      <td>2</td>\n",
       "      <td>1</td>\n",
       "      <td>1</td>\n",
       "    </tr>\n",
       "    <tr>\n",
       "      <th>9</th>\n",
       "      <td>2</td>\n",
       "      <td>1</td>\n",
       "      <td>5</td>\n",
       "      <td>5</td>\n",
       "      <td>3</td>\n",
       "      <td>3</td>\n",
       "      <td>2</td>\n",
       "      <td>2</td>\n",
       "    </tr>\n",
       "    <tr>\n",
       "      <th>10</th>\n",
       "      <td>1</td>\n",
       "      <td>1</td>\n",
       "      <td>4</td>\n",
       "      <td>4</td>\n",
       "      <td>4</td>\n",
       "      <td>4</td>\n",
       "      <td>1</td>\n",
       "      <td>1</td>\n",
       "    </tr>\n",
       "  </tbody>\n",
       "</table>\n",
       "</div>"
      ],
      "text/plain": [
       "    python  stats  analytical  communication  domain  visualisation  big data  \\\n",
       "0        2      2           2              2       2              2         2   \n",
       "1        2      4           5              5       3              2         2   \n",
       "2        2      2           2              5       3              3         2   \n",
       "3        2      1           3              4       3              4         1   \n",
       "4        2      1           3              5       4              5         1   \n",
       "5        2      2           4              5       3              1         1   \n",
       "6        1      1           3              4       2              1         1   \n",
       "7        1      2           5              5       2              4         1   \n",
       "8        2      1           4              4       4              2         1   \n",
       "9        2      1           5              5       3              3         2   \n",
       "10       1      1           4              4       4              4         1   \n",
       "\n",
       "    sql  \n",
       "0     2  \n",
       "1     3  \n",
       "2     2  \n",
       "3     2  \n",
       "4     3  \n",
       "5     1  \n",
       "6     2  \n",
       "7     2  \n",
       "8     1  \n",
       "9     2  \n",
       "10    1  "
      ]
     },
     "execution_count": 86,
     "metadata": {},
     "output_type": "execute_result"
    }
   ],
   "source": [
    "Data"
   ]
  },
  {
   "cell_type": "markdown",
   "id": "3dbb419d",
   "metadata": {},
   "source": [
    "# KRUSKWALLIS TEST ON BUSINESS ANALYST RESPONSES"
   ]
  },
  {
   "cell_type": "code",
   "execution_count": 87,
   "id": "e70caff7",
   "metadata": {},
   "outputs": [
    {
     "name": "stdout",
     "output_type": "stream",
     "text": [
      "H-statistic:\t49.70729307430267\n",
      "P-value:\t1.6487646318715428e-08\n",
      "Reject NULL hypothesis - Significant differences exist between groups.\n"
     ]
    }
   ],
   "source": [
    "import pandas, sys\n",
    "from scipy.stats import mstats\n",
    "Data = pd.read_csv(\"C:\\\\Users\\\\USER\\\\Desktop\\\\business analyst data.csv\")\n",
    "H, pval = mstats.kruskalwallis([Data[col] for col in Data.columns])\n",
    "\n",
    "\n",
    "print(\"H-statistic:\\t%s\\nP-value:\\t%s\" % (str(H),str(pval))) \n",
    "if pval < 0.05:\n",
    "    print(\"Reject NULL hypothesis - Significant differences exist between groups.\")\n",
    "if pval > 0.05:\n",
    "    print(\"Accept NULL hypothesis - No significant difference between groups.\")"
   ]
  },
  {
   "cell_type": "markdown",
   "id": "35e0c8ae",
   "metadata": {},
   "source": [
    "## As p-value < 0.05 , there is significant difference between the groups.To confirm and to identify which groups are significant, Dunn's Test is done."
   ]
  },
  {
   "cell_type": "code",
   "execution_count": 88,
   "id": "38a15cb4",
   "metadata": {},
   "outputs": [
    {
     "name": "stdout",
     "output_type": "stream",
     "text": [
      "Requirement already satisfied: scikit-posthocs in c:\\users\\user\\anaconda3\\lib\\site-packages (0.7.0)\n",
      "Requirement already satisfied: statsmodels in c:\\users\\user\\anaconda3\\lib\\site-packages (from scikit-posthocs) (0.13.2)\n",
      "Requirement already satisfied: numpy in c:\\users\\user\\anaconda3\\lib\\site-packages (from scikit-posthocs) (1.21.5)\n",
      "Requirement already satisfied: matplotlib in c:\\users\\user\\anaconda3\\lib\\site-packages (from scikit-posthocs) (3.5.1)\n",
      "Requirement already satisfied: scipy in c:\\users\\user\\anaconda3\\lib\\site-packages (from scikit-posthocs) (1.7.3)\n",
      "Requirement already satisfied: seaborn in c:\\users\\user\\anaconda3\\lib\\site-packages (from scikit-posthocs) (0.11.2)\n",
      "Requirement already satisfied: pandas>=0.20.0 in c:\\users\\user\\anaconda3\\lib\\site-packages (from scikit-posthocs) (1.4.2)\n",
      "Requirement already satisfied: python-dateutil>=2.8.1 in c:\\users\\user\\anaconda3\\lib\\site-packages (from pandas>=0.20.0->scikit-posthocs) (2.8.2)\n",
      "Requirement already satisfied: pytz>=2020.1 in c:\\users\\user\\anaconda3\\lib\\site-packages (from pandas>=0.20.0->scikit-posthocs) (2021.3)\n",
      "Requirement already satisfied: six>=1.5 in c:\\users\\user\\anaconda3\\lib\\site-packages (from python-dateutil>=2.8.1->pandas>=0.20.0->scikit-posthocs) (1.16.0)\n",
      "Requirement already satisfied: pillow>=6.2.0 in c:\\users\\user\\anaconda3\\lib\\site-packages (from matplotlib->scikit-posthocs) (9.0.1)\n",
      "Requirement already satisfied: fonttools>=4.22.0 in c:\\users\\user\\anaconda3\\lib\\site-packages (from matplotlib->scikit-posthocs) (4.25.0)\n",
      "Requirement already satisfied: packaging>=20.0 in c:\\users\\user\\anaconda3\\lib\\site-packages (from matplotlib->scikit-posthocs) (21.3)\n",
      "Requirement already satisfied: pyparsing>=2.2.1 in c:\\users\\user\\anaconda3\\lib\\site-packages (from matplotlib->scikit-posthocs) (3.0.4)\n",
      "Requirement already satisfied: kiwisolver>=1.0.1 in c:\\users\\user\\anaconda3\\lib\\site-packages (from matplotlib->scikit-posthocs) (1.3.2)\n",
      "Requirement already satisfied: cycler>=0.10 in c:\\users\\user\\anaconda3\\lib\\site-packages (from matplotlib->scikit-posthocs) (0.11.0)\n",
      "Requirement already satisfied: patsy>=0.5.2 in c:\\users\\user\\anaconda3\\lib\\site-packages (from statsmodels->scikit-posthocs) (0.5.2)\n",
      "Note: you may need to restart the kernel to use updated packages.\n"
     ]
    }
   ],
   "source": [
    "pip install scikit-posthocs"
   ]
  },
  {
   "cell_type": "markdown",
   "id": "a8b4610f",
   "metadata": {},
   "source": [
    "### IMPORTING LIBRARY REQUIRED FOR DUNN'S TEST"
   ]
  },
  {
   "cell_type": "code",
   "execution_count": 89,
   "id": "cbe98a0d",
   "metadata": {},
   "outputs": [],
   "source": [
    "import scikit_posthocs as sp"
   ]
  },
  {
   "cell_type": "code",
   "execution_count": 90,
   "id": "45baf235",
   "metadata": {},
   "outputs": [],
   "source": [
    "a=list(Data['python'].values)\n",
    "b=list(Data['stats'].values)\n",
    "c=list(Data['analytical'].values)\n",
    "d=list(Data['communication'].values)\n",
    "e=list(Data['domain'].values)\n",
    "f=list(Data['visualisation'].values)\n",
    "g=list(Data['big data'].values)\n",
    "h=list(Data['sql'].values)\n",
    "group=[a,b,c,d,e,f,g,h]"
   ]
  },
  {
   "cell_type": "markdown",
   "id": "5c2bb1d7",
   "metadata": {},
   "source": [
    "### PERFORMING DUNN'S TEST\n"
   ]
  },
  {
   "cell_type": "code",
   "execution_count": 91,
   "id": "0c6fd814",
   "metadata": {},
   "outputs": [],
   "source": [
    "dunn=sp.posthoc_dunn(group,p_adjust='bonferroni')"
   ]
  },
  {
   "cell_type": "code",
   "execution_count": 92,
   "id": "3228a787",
   "metadata": {},
   "outputs": [
    {
     "data": {
      "text/html": [
       "<div>\n",
       "<style scoped>\n",
       "    .dataframe tbody tr th:only-of-type {\n",
       "        vertical-align: middle;\n",
       "    }\n",
       "\n",
       "    .dataframe tbody tr th {\n",
       "        vertical-align: top;\n",
       "    }\n",
       "\n",
       "    .dataframe thead th {\n",
       "        text-align: right;\n",
       "    }\n",
       "</style>\n",
       "<table border=\"1\" class=\"dataframe\">\n",
       "  <thead>\n",
       "    <tr style=\"text-align: right;\">\n",
       "      <th></th>\n",
       "      <th>1</th>\n",
       "      <th>2</th>\n",
       "      <th>3</th>\n",
       "      <th>4</th>\n",
       "      <th>5</th>\n",
       "      <th>6</th>\n",
       "      <th>7</th>\n",
       "      <th>8</th>\n",
       "    </tr>\n",
       "  </thead>\n",
       "  <tbody>\n",
       "    <tr>\n",
       "      <th>1</th>\n",
       "      <td>1.000000</td>\n",
       "      <td>1.000000</td>\n",
       "      <td>0.024541</td>\n",
       "      <td>0.000541</td>\n",
       "      <td>0.353170</td>\n",
       "      <td>1.000000</td>\n",
       "      <td>1.000000</td>\n",
       "      <td>1.000000</td>\n",
       "    </tr>\n",
       "    <tr>\n",
       "      <th>2</th>\n",
       "      <td>1.000000</td>\n",
       "      <td>1.000000</td>\n",
       "      <td>0.005968</td>\n",
       "      <td>0.000094</td>\n",
       "      <td>0.114940</td>\n",
       "      <td>0.657030</td>\n",
       "      <td>1.000000</td>\n",
       "      <td>1.000000</td>\n",
       "    </tr>\n",
       "    <tr>\n",
       "      <th>3</th>\n",
       "      <td>0.024541</td>\n",
       "      <td>0.005968</td>\n",
       "      <td>1.000000</td>\n",
       "      <td>1.000000</td>\n",
       "      <td>1.000000</td>\n",
       "      <td>1.000000</td>\n",
       "      <td>0.000669</td>\n",
       "      <td>0.087181</td>\n",
       "    </tr>\n",
       "    <tr>\n",
       "      <th>4</th>\n",
       "      <td>0.000541</td>\n",
       "      <td>0.000094</td>\n",
       "      <td>1.000000</td>\n",
       "      <td>1.000000</td>\n",
       "      <td>1.000000</td>\n",
       "      <td>0.481740</td>\n",
       "      <td>0.000007</td>\n",
       "      <td>0.002677</td>\n",
       "    </tr>\n",
       "    <tr>\n",
       "      <th>5</th>\n",
       "      <td>0.353170</td>\n",
       "      <td>0.114940</td>\n",
       "      <td>1.000000</td>\n",
       "      <td>1.000000</td>\n",
       "      <td>1.000000</td>\n",
       "      <td>1.000000</td>\n",
       "      <td>0.019415</td>\n",
       "      <td>0.944282</td>\n",
       "    </tr>\n",
       "    <tr>\n",
       "      <th>6</th>\n",
       "      <td>1.000000</td>\n",
       "      <td>0.657030</td>\n",
       "      <td>1.000000</td>\n",
       "      <td>0.481740</td>\n",
       "      <td>1.000000</td>\n",
       "      <td>1.000000</td>\n",
       "      <td>0.148507</td>\n",
       "      <td>1.000000</td>\n",
       "    </tr>\n",
       "    <tr>\n",
       "      <th>7</th>\n",
       "      <td>1.000000</td>\n",
       "      <td>1.000000</td>\n",
       "      <td>0.000669</td>\n",
       "      <td>0.000007</td>\n",
       "      <td>0.019415</td>\n",
       "      <td>0.148507</td>\n",
       "      <td>1.000000</td>\n",
       "      <td>1.000000</td>\n",
       "    </tr>\n",
       "    <tr>\n",
       "      <th>8</th>\n",
       "      <td>1.000000</td>\n",
       "      <td>1.000000</td>\n",
       "      <td>0.087181</td>\n",
       "      <td>0.002677</td>\n",
       "      <td>0.944282</td>\n",
       "      <td>1.000000</td>\n",
       "      <td>1.000000</td>\n",
       "      <td>1.000000</td>\n",
       "    </tr>\n",
       "  </tbody>\n",
       "</table>\n",
       "</div>"
      ],
      "text/plain": [
       "          1         2         3         4         5         6         7  \\\n",
       "1  1.000000  1.000000  0.024541  0.000541  0.353170  1.000000  1.000000   \n",
       "2  1.000000  1.000000  0.005968  0.000094  0.114940  0.657030  1.000000   \n",
       "3  0.024541  0.005968  1.000000  1.000000  1.000000  1.000000  0.000669   \n",
       "4  0.000541  0.000094  1.000000  1.000000  1.000000  0.481740  0.000007   \n",
       "5  0.353170  0.114940  1.000000  1.000000  1.000000  1.000000  0.019415   \n",
       "6  1.000000  0.657030  1.000000  0.481740  1.000000  1.000000  0.148507   \n",
       "7  1.000000  1.000000  0.000669  0.000007  0.019415  0.148507  1.000000   \n",
       "8  1.000000  1.000000  0.087181  0.002677  0.944282  1.000000  1.000000   \n",
       "\n",
       "          8  \n",
       "1  1.000000  \n",
       "2  1.000000  \n",
       "3  0.087181  \n",
       "4  0.002677  \n",
       "5  0.944282  \n",
       "6  1.000000  \n",
       "7  1.000000  \n",
       "8  1.000000  "
      ]
     },
     "execution_count": 92,
     "metadata": {},
     "output_type": "execute_result"
    }
   ],
   "source": [
    "dunn"
   ]
  },
  {
   "cell_type": "markdown",
   "id": "965603eb",
   "metadata": {},
   "source": [
    "### SHOWING VALUES LESS THAN 0.05 TO IDENTIFY WHICH ALL SKILLS ARE SIGNIFICANT FROM EACH OTHER\n",
    "1-PYTHON \n",
    "2-STATISTICS AND MACHINE LEARNING\n",
    "3-ANALYTICAL SKILLS\n",
    "4-COMMUNICATION SKILLS\n",
    "5-DOMAIN KNWOLEDGE\n",
    "6-VISUALISATION\n",
    "7-BIG DATA ANALYTICAL TOOLS\n",
    "8-SQL"
   ]
  },
  {
   "cell_type": "code",
   "execution_count": 93,
   "id": "00f3cc30",
   "metadata": {},
   "outputs": [
    {
     "data": {
      "text/html": [
       "<div>\n",
       "<style scoped>\n",
       "    .dataframe tbody tr th:only-of-type {\n",
       "        vertical-align: middle;\n",
       "    }\n",
       "\n",
       "    .dataframe tbody tr th {\n",
       "        vertical-align: top;\n",
       "    }\n",
       "\n",
       "    .dataframe thead th {\n",
       "        text-align: right;\n",
       "    }\n",
       "</style>\n",
       "<table border=\"1\" class=\"dataframe\">\n",
       "  <thead>\n",
       "    <tr style=\"text-align: right;\">\n",
       "      <th></th>\n",
       "      <th>1</th>\n",
       "      <th>2</th>\n",
       "      <th>3</th>\n",
       "      <th>4</th>\n",
       "      <th>5</th>\n",
       "      <th>6</th>\n",
       "      <th>7</th>\n",
       "      <th>8</th>\n",
       "    </tr>\n",
       "  </thead>\n",
       "  <tbody>\n",
       "    <tr>\n",
       "      <th>1</th>\n",
       "      <td>NaN</td>\n",
       "      <td>NaN</td>\n",
       "      <td>0.024541</td>\n",
       "      <td>0.000541</td>\n",
       "      <td>NaN</td>\n",
       "      <td>NaN</td>\n",
       "      <td>NaN</td>\n",
       "      <td>NaN</td>\n",
       "    </tr>\n",
       "    <tr>\n",
       "      <th>2</th>\n",
       "      <td>NaN</td>\n",
       "      <td>NaN</td>\n",
       "      <td>0.005968</td>\n",
       "      <td>0.000094</td>\n",
       "      <td>NaN</td>\n",
       "      <td>NaN</td>\n",
       "      <td>NaN</td>\n",
       "      <td>NaN</td>\n",
       "    </tr>\n",
       "    <tr>\n",
       "      <th>3</th>\n",
       "      <td>0.024541</td>\n",
       "      <td>0.005968</td>\n",
       "      <td>NaN</td>\n",
       "      <td>NaN</td>\n",
       "      <td>NaN</td>\n",
       "      <td>NaN</td>\n",
       "      <td>0.000669</td>\n",
       "      <td>NaN</td>\n",
       "    </tr>\n",
       "    <tr>\n",
       "      <th>4</th>\n",
       "      <td>0.000541</td>\n",
       "      <td>0.000094</td>\n",
       "      <td>NaN</td>\n",
       "      <td>NaN</td>\n",
       "      <td>NaN</td>\n",
       "      <td>NaN</td>\n",
       "      <td>0.000007</td>\n",
       "      <td>0.002677</td>\n",
       "    </tr>\n",
       "    <tr>\n",
       "      <th>5</th>\n",
       "      <td>NaN</td>\n",
       "      <td>NaN</td>\n",
       "      <td>NaN</td>\n",
       "      <td>NaN</td>\n",
       "      <td>NaN</td>\n",
       "      <td>NaN</td>\n",
       "      <td>0.019415</td>\n",
       "      <td>NaN</td>\n",
       "    </tr>\n",
       "    <tr>\n",
       "      <th>6</th>\n",
       "      <td>NaN</td>\n",
       "      <td>NaN</td>\n",
       "      <td>NaN</td>\n",
       "      <td>NaN</td>\n",
       "      <td>NaN</td>\n",
       "      <td>NaN</td>\n",
       "      <td>NaN</td>\n",
       "      <td>NaN</td>\n",
       "    </tr>\n",
       "    <tr>\n",
       "      <th>7</th>\n",
       "      <td>NaN</td>\n",
       "      <td>NaN</td>\n",
       "      <td>0.000669</td>\n",
       "      <td>0.000007</td>\n",
       "      <td>0.019415</td>\n",
       "      <td>NaN</td>\n",
       "      <td>NaN</td>\n",
       "      <td>NaN</td>\n",
       "    </tr>\n",
       "    <tr>\n",
       "      <th>8</th>\n",
       "      <td>NaN</td>\n",
       "      <td>NaN</td>\n",
       "      <td>NaN</td>\n",
       "      <td>0.002677</td>\n",
       "      <td>NaN</td>\n",
       "      <td>NaN</td>\n",
       "      <td>NaN</td>\n",
       "      <td>NaN</td>\n",
       "    </tr>\n",
       "  </tbody>\n",
       "</table>\n",
       "</div>"
      ],
      "text/plain": [
       "          1         2         3         4         5   6         7         8\n",
       "1       NaN       NaN  0.024541  0.000541       NaN NaN       NaN       NaN\n",
       "2       NaN       NaN  0.005968  0.000094       NaN NaN       NaN       NaN\n",
       "3  0.024541  0.005968       NaN       NaN       NaN NaN  0.000669       NaN\n",
       "4  0.000541  0.000094       NaN       NaN       NaN NaN  0.000007  0.002677\n",
       "5       NaN       NaN       NaN       NaN       NaN NaN  0.019415       NaN\n",
       "6       NaN       NaN       NaN       NaN       NaN NaN       NaN       NaN\n",
       "7       NaN       NaN  0.000669  0.000007  0.019415 NaN       NaN       NaN\n",
       "8       NaN       NaN       NaN  0.002677       NaN NaN       NaN       NaN"
      ]
     },
     "execution_count": 93,
     "metadata": {},
     "output_type": "execute_result"
    }
   ],
   "source": [
    "dunn[dunn<0.05]"
   ]
  },
  {
   "cell_type": "markdown",
   "id": "a296b2d7",
   "metadata": {},
   "source": [
    "### INFERENCES:\n",
    "#### 1.ANALYTICAL SKILLS AND COMMUNICATION SKILLS ARE SIGNIFICANTLY DIFFERENT FROM PYTHON AND STATS,WHICH MEANS THEY CAN BE GIVEN MORE FOCUS FOR BECOMING A BUSINESS ANALYST\n",
    "#### 2.COMMUNICATION SKILLS ARE DIFFERENT FROM BIG DATA ANALYTICAL TOOLS AND SQL ALSO.\n",
    "#### 3.DOMAIN KNOWLEDGE IS MORE IMPORTANT THAN BIG DATA ANALYTICAL TOOLS FOR A BUSINESS ANALYST\n",
    "#### 4.COMMUNICATION SKILLS IS MORE IMPORTANT THAN SQL FOR A BUSINESS ANALYST\n",
    "\n",
    "#### HENCE, FOR THE ROLE OF A BUSINESS ANALYST ANALYTICAL SKILLS,COMMUNICATION SKILLS ALONG WITH DOMAIN \n",
    "#### KNOWLEDE ARE THE PREFERRED AND REQUIRED SKILL SETS AS PER THE SAMPLE COLLECTED\n"
   ]
  },
  {
   "cell_type": "code",
   "execution_count": 94,
   "id": "211e8420",
   "metadata": {},
   "outputs": [],
   "source": [
    "import seaborn as sns\n"
   ]
  },
  {
   "cell_type": "code",
   "execution_count": 95,
   "id": "dc24f36e",
   "metadata": {},
   "outputs": [
    {
     "data": {
      "text/plain": [
       "<AxesSubplot:>"
      ]
     },
     "execution_count": 95,
     "metadata": {},
     "output_type": "execute_result"
    },
    {
     "data": {
      "image/png": "[encoded data removed]",
      "text/plain": [
       "<Figure size 1440x720 with 2 Axes>"
      ]
     },
     "metadata": {},
     "output_type": "display_data"
    }
   ],
   "source": [
    "sns.heatmap(dunn,annot=True)"
   ]
  },
  {
   "cell_type": "markdown",
   "id": "3fd363f6",
   "metadata": {},
   "source": [
    "# LOADING DATA ANALYSTS RESPONSES"
   ]
  },
  {
   "cell_type": "code",
   "execution_count": 96,
   "id": "11dc5a71",
   "metadata": {},
   "outputs": [],
   "source": [
    "Data1 = pd.read_csv('C:\\\\Users\\\\USER\\\\Desktop\\\\Data Analyst Data.csv')"
   ]
  },
  {
   "cell_type": "code",
   "execution_count": 97,
   "id": "e4c41254",
   "metadata": {},
   "outputs": [
    {
     "data": {
      "text/html": [
       "<div>\n",
       "<style scoped>\n",
       "    .dataframe tbody tr th:only-of-type {\n",
       "        vertical-align: middle;\n",
       "    }\n",
       "\n",
       "    .dataframe tbody tr th {\n",
       "        vertical-align: top;\n",
       "    }\n",
       "\n",
       "    .dataframe thead th {\n",
       "        text-align: right;\n",
       "    }\n",
       "</style>\n",
       "<table border=\"1\" class=\"dataframe\">\n",
       "  <thead>\n",
       "    <tr style=\"text-align: right;\">\n",
       "      <th></th>\n",
       "      <th>python</th>\n",
       "      <th>stats</th>\n",
       "      <th>analytical</th>\n",
       "      <th>communication</th>\n",
       "      <th>domain</th>\n",
       "      <th>visualisation</th>\n",
       "      <th>big data</th>\n",
       "      <th>sql</th>\n",
       "    </tr>\n",
       "  </thead>\n",
       "  <tbody>\n",
       "    <tr>\n",
       "      <th>0</th>\n",
       "      <td>4</td>\n",
       "      <td>4</td>\n",
       "      <td>4</td>\n",
       "      <td>5</td>\n",
       "      <td>3</td>\n",
       "      <td>4</td>\n",
       "      <td>4</td>\n",
       "      <td>4</td>\n",
       "    </tr>\n",
       "    <tr>\n",
       "      <th>1</th>\n",
       "      <td>3</td>\n",
       "      <td>3</td>\n",
       "      <td>3</td>\n",
       "      <td>3</td>\n",
       "      <td>2</td>\n",
       "      <td>2</td>\n",
       "      <td>2</td>\n",
       "      <td>3</td>\n",
       "    </tr>\n",
       "    <tr>\n",
       "      <th>2</th>\n",
       "      <td>3</td>\n",
       "      <td>2</td>\n",
       "      <td>2</td>\n",
       "      <td>2</td>\n",
       "      <td>2</td>\n",
       "      <td>2</td>\n",
       "      <td>2</td>\n",
       "      <td>3</td>\n",
       "    </tr>\n",
       "    <tr>\n",
       "      <th>3</th>\n",
       "      <td>2</td>\n",
       "      <td>3</td>\n",
       "      <td>3</td>\n",
       "      <td>4</td>\n",
       "      <td>3</td>\n",
       "      <td>3</td>\n",
       "      <td>3</td>\n",
       "      <td>3</td>\n",
       "    </tr>\n",
       "    <tr>\n",
       "      <th>4</th>\n",
       "      <td>3</td>\n",
       "      <td>3</td>\n",
       "      <td>4</td>\n",
       "      <td>3</td>\n",
       "      <td>5</td>\n",
       "      <td>5</td>\n",
       "      <td>1</td>\n",
       "      <td>5</td>\n",
       "    </tr>\n",
       "    <tr>\n",
       "      <th>5</th>\n",
       "      <td>3</td>\n",
       "      <td>2</td>\n",
       "      <td>3</td>\n",
       "      <td>4</td>\n",
       "      <td>4</td>\n",
       "      <td>3</td>\n",
       "      <td>1</td>\n",
       "      <td>4</td>\n",
       "    </tr>\n",
       "    <tr>\n",
       "      <th>6</th>\n",
       "      <td>5</td>\n",
       "      <td>2</td>\n",
       "      <td>2</td>\n",
       "      <td>3</td>\n",
       "      <td>4</td>\n",
       "      <td>2</td>\n",
       "      <td>2</td>\n",
       "      <td>3</td>\n",
       "    </tr>\n",
       "    <tr>\n",
       "      <th>7</th>\n",
       "      <td>4</td>\n",
       "      <td>3</td>\n",
       "      <td>3</td>\n",
       "      <td>3</td>\n",
       "      <td>4</td>\n",
       "      <td>4</td>\n",
       "      <td>2</td>\n",
       "      <td>4</td>\n",
       "    </tr>\n",
       "    <tr>\n",
       "      <th>8</th>\n",
       "      <td>3</td>\n",
       "      <td>2</td>\n",
       "      <td>3</td>\n",
       "      <td>4</td>\n",
       "      <td>3</td>\n",
       "      <td>4</td>\n",
       "      <td>3</td>\n",
       "      <td>4</td>\n",
       "    </tr>\n",
       "    <tr>\n",
       "      <th>9</th>\n",
       "      <td>4</td>\n",
       "      <td>4</td>\n",
       "      <td>4</td>\n",
       "      <td>4</td>\n",
       "      <td>4</td>\n",
       "      <td>4</td>\n",
       "      <td>1</td>\n",
       "      <td>4</td>\n",
       "    </tr>\n",
       "    <tr>\n",
       "      <th>10</th>\n",
       "      <td>3</td>\n",
       "      <td>2</td>\n",
       "      <td>2</td>\n",
       "      <td>3</td>\n",
       "      <td>3</td>\n",
       "      <td>2</td>\n",
       "      <td>2</td>\n",
       "      <td>3</td>\n",
       "    </tr>\n",
       "  </tbody>\n",
       "</table>\n",
       "</div>"
      ],
      "text/plain": [
       "    python  stats  analytical  communication  domain  visualisation  big data  \\\n",
       "0        4      4           4              5       3              4         4   \n",
       "1        3      3           3              3       2              2         2   \n",
       "2        3      2           2              2       2              2         2   \n",
       "3        2      3           3              4       3              3         3   \n",
       "4        3      3           4              3       5              5         1   \n",
       "5        3      2           3              4       4              3         1   \n",
       "6        5      2           2              3       4              2         2   \n",
       "7        4      3           3              3       4              4         2   \n",
       "8        3      2           3              4       3              4         3   \n",
       "9        4      4           4              4       4              4         1   \n",
       "10       3      2           2              3       3              2         2   \n",
       "\n",
       "    sql  \n",
       "0     4  \n",
       "1     3  \n",
       "2     3  \n",
       "3     3  \n",
       "4     5  \n",
       "5     4  \n",
       "6     3  \n",
       "7     4  \n",
       "8     4  \n",
       "9     4  \n",
       "10    3  "
      ]
     },
     "execution_count": 97,
     "metadata": {},
     "output_type": "execute_result"
    }
   ],
   "source": [
    "Data1"
   ]
  },
  {
   "cell_type": "markdown",
   "id": "7bb4c024",
   "metadata": {},
   "source": [
    "# KRUKSWALLIS TEST ON DATA ANALYSTS RESPONSES"
   ]
  },
  {
   "cell_type": "code",
   "execution_count": 98,
   "id": "617ce269",
   "metadata": {},
   "outputs": [
    {
     "name": "stdout",
     "output_type": "stream",
     "text": [
      "H-statistic:\t19.222993630517077\n",
      "P-value:\t0.007516753094664885\n",
      "Reject NULL hypothesis - Significant differences exist between groups.\n"
     ]
    }
   ],
   "source": [
    "H, pval = mstats.kruskalwallis([Data1[col] for col in Data1.columns])\n",
    "\n",
    "\n",
    "print(\"H-statistic:\\t%s\\nP-value:\\t%s\" % (str(H),str(pval))) \n",
    "if pval < 0.05:\n",
    "    print(\"Reject NULL hypothesis - Significant differences exist between groups.\")\n",
    "if pval > 0.05:\n",
    "    print(\"Accept NULL hypothesis - No significant difference between groups.\")"
   ]
  },
  {
   "cell_type": "markdown",
   "id": "7437d7ed",
   "metadata": {},
   "source": [
    "### As p-value <0.05,there is significant difference between the groups, i.e, the skill sets of a Data Analyst.In order to confirm which groups are significantly different, we perform post hoc test , i.e ,Dunn's Test."
   ]
  },
  {
   "cell_type": "code",
   "execution_count": 99,
   "id": "1709acd9",
   "metadata": {},
   "outputs": [],
   "source": [
    "a1=list(Data1['python'].values)\n",
    "b1=list(Data1['stats'].values)\n",
    "c1=list(Data1['analytical'].values)\n",
    "d1=list(Data1['communication'].values)\n",
    "e1=list(Data1['domain'].values)\n",
    "f1=list(Data1['visualisation'].values)\n",
    "g1=list(Data1['big data'].values)\n",
    "h1=list(Data1['sql'].values)\n",
    "group1=[a1,b1,c1,d1,e1,f1,g1,h1]"
   ]
  },
  {
   "cell_type": "markdown",
   "id": "cfceb220",
   "metadata": {},
   "source": [
    "### Dunn's Test on Data Analysts Responses"
   ]
  },
  {
   "cell_type": "code",
   "execution_count": 100,
   "id": "3e578aac",
   "metadata": {},
   "outputs": [],
   "source": [
    "dunn1=sp.posthoc_dunn(group1,p_adjust='bonferroni')"
   ]
  },
  {
   "cell_type": "markdown",
   "id": "7a97cccb",
   "metadata": {},
   "source": [
    "1-PYTHON 2-STATISTICS AND MACHINE LEARNING 3-ANALYTICAL SKILLS 4-COMMUNICATION SKILLS \n",
    "5-DOMAIN KNWOLEDGE 6-VISUALISATION 7-BIG DATA ANALYTICAL TOOLS 8-SQL"
   ]
  },
  {
   "cell_type": "code",
   "execution_count": 101,
   "id": "bf660ea1",
   "metadata": {},
   "outputs": [
    {
     "data": {
      "text/html": [
       "<div>\n",
       "<style scoped>\n",
       "    .dataframe tbody tr th:only-of-type {\n",
       "        vertical-align: middle;\n",
       "    }\n",
       "\n",
       "    .dataframe tbody tr th {\n",
       "        vertical-align: top;\n",
       "    }\n",
       "\n",
       "    .dataframe thead th {\n",
       "        text-align: right;\n",
       "    }\n",
       "</style>\n",
       "<table border=\"1\" class=\"dataframe\">\n",
       "  <thead>\n",
       "    <tr style=\"text-align: right;\">\n",
       "      <th></th>\n",
       "      <th>1</th>\n",
       "      <th>2</th>\n",
       "      <th>3</th>\n",
       "      <th>4</th>\n",
       "      <th>5</th>\n",
       "      <th>6</th>\n",
       "      <th>7</th>\n",
       "      <th>8</th>\n",
       "    </tr>\n",
       "  </thead>\n",
       "  <tbody>\n",
       "    <tr>\n",
       "      <th>1</th>\n",
       "      <td>1.00000</td>\n",
       "      <td>1.000000</td>\n",
       "      <td>1.0</td>\n",
       "      <td>1.000000</td>\n",
       "      <td>1.000000</td>\n",
       "      <td>1.000000</td>\n",
       "      <td>0.110750</td>\n",
       "      <td>1.000000</td>\n",
       "    </tr>\n",
       "    <tr>\n",
       "      <th>2</th>\n",
       "      <td>1.00000</td>\n",
       "      <td>1.000000</td>\n",
       "      <td>1.0</td>\n",
       "      <td>1.000000</td>\n",
       "      <td>1.000000</td>\n",
       "      <td>1.000000</td>\n",
       "      <td>1.000000</td>\n",
       "      <td>0.523143</td>\n",
       "    </tr>\n",
       "    <tr>\n",
       "      <th>3</th>\n",
       "      <td>1.00000</td>\n",
       "      <td>1.000000</td>\n",
       "      <td>1.0</td>\n",
       "      <td>1.000000</td>\n",
       "      <td>1.000000</td>\n",
       "      <td>1.000000</td>\n",
       "      <td>1.000000</td>\n",
       "      <td>1.000000</td>\n",
       "    </tr>\n",
       "    <tr>\n",
       "      <th>4</th>\n",
       "      <td>1.00000</td>\n",
       "      <td>1.000000</td>\n",
       "      <td>1.0</td>\n",
       "      <td>1.000000</td>\n",
       "      <td>1.000000</td>\n",
       "      <td>1.000000</td>\n",
       "      <td>0.047291</td>\n",
       "      <td>1.000000</td>\n",
       "    </tr>\n",
       "    <tr>\n",
       "      <th>5</th>\n",
       "      <td>1.00000</td>\n",
       "      <td>1.000000</td>\n",
       "      <td>1.0</td>\n",
       "      <td>1.000000</td>\n",
       "      <td>1.000000</td>\n",
       "      <td>1.000000</td>\n",
       "      <td>0.103293</td>\n",
       "      <td>1.000000</td>\n",
       "    </tr>\n",
       "    <tr>\n",
       "      <th>6</th>\n",
       "      <td>1.00000</td>\n",
       "      <td>1.000000</td>\n",
       "      <td>1.0</td>\n",
       "      <td>1.000000</td>\n",
       "      <td>1.000000</td>\n",
       "      <td>1.000000</td>\n",
       "      <td>0.422052</td>\n",
       "      <td>1.000000</td>\n",
       "    </tr>\n",
       "    <tr>\n",
       "      <th>7</th>\n",
       "      <td>0.11075</td>\n",
       "      <td>1.000000</td>\n",
       "      <td>1.0</td>\n",
       "      <td>0.047291</td>\n",
       "      <td>0.103293</td>\n",
       "      <td>0.422052</td>\n",
       "      <td>1.000000</td>\n",
       "      <td>0.007784</td>\n",
       "    </tr>\n",
       "    <tr>\n",
       "      <th>8</th>\n",
       "      <td>1.00000</td>\n",
       "      <td>0.523143</td>\n",
       "      <td>1.0</td>\n",
       "      <td>1.000000</td>\n",
       "      <td>1.000000</td>\n",
       "      <td>1.000000</td>\n",
       "      <td>0.007784</td>\n",
       "      <td>1.000000</td>\n",
       "    </tr>\n",
       "  </tbody>\n",
       "</table>\n",
       "</div>"
      ],
      "text/plain": [
       "         1         2    3         4         5         6         7         8\n",
       "1  1.00000  1.000000  1.0  1.000000  1.000000  1.000000  0.110750  1.000000\n",
       "2  1.00000  1.000000  1.0  1.000000  1.000000  1.000000  1.000000  0.523143\n",
       "3  1.00000  1.000000  1.0  1.000000  1.000000  1.000000  1.000000  1.000000\n",
       "4  1.00000  1.000000  1.0  1.000000  1.000000  1.000000  0.047291  1.000000\n",
       "5  1.00000  1.000000  1.0  1.000000  1.000000  1.000000  0.103293  1.000000\n",
       "6  1.00000  1.000000  1.0  1.000000  1.000000  1.000000  0.422052  1.000000\n",
       "7  0.11075  1.000000  1.0  0.047291  0.103293  0.422052  1.000000  0.007784\n",
       "8  1.00000  0.523143  1.0  1.000000  1.000000  1.000000  0.007784  1.000000"
      ]
     },
     "execution_count": 101,
     "metadata": {},
     "output_type": "execute_result"
    }
   ],
   "source": [
    "dunn1"
   ]
  },
  {
   "cell_type": "markdown",
   "id": "680fc898",
   "metadata": {},
   "source": [
    "#### Values less than 0.05 is identified to find the statistically significant groups "
   ]
  },
  {
   "cell_type": "code",
   "execution_count": 102,
   "id": "3046a139",
   "metadata": {},
   "outputs": [
    {
     "data": {
      "text/html": [
       "<div>\n",
       "<style scoped>\n",
       "    .dataframe tbody tr th:only-of-type {\n",
       "        vertical-align: middle;\n",
       "    }\n",
       "\n",
       "    .dataframe tbody tr th {\n",
       "        vertical-align: top;\n",
       "    }\n",
       "\n",
       "    .dataframe thead th {\n",
       "        text-align: right;\n",
       "    }\n",
       "</style>\n",
       "<table border=\"1\" class=\"dataframe\">\n",
       "  <thead>\n",
       "    <tr style=\"text-align: right;\">\n",
       "      <th></th>\n",
       "      <th>1</th>\n",
       "      <th>2</th>\n",
       "      <th>3</th>\n",
       "      <th>4</th>\n",
       "      <th>5</th>\n",
       "      <th>6</th>\n",
       "      <th>7</th>\n",
       "      <th>8</th>\n",
       "    </tr>\n",
       "  </thead>\n",
       "  <tbody>\n",
       "    <tr>\n",
       "      <th>1</th>\n",
       "      <td>NaN</td>\n",
       "      <td>NaN</td>\n",
       "      <td>NaN</td>\n",
       "      <td>NaN</td>\n",
       "      <td>NaN</td>\n",
       "      <td>NaN</td>\n",
       "      <td>NaN</td>\n",
       "      <td>NaN</td>\n",
       "    </tr>\n",
       "    <tr>\n",
       "      <th>2</th>\n",
       "      <td>NaN</td>\n",
       "      <td>NaN</td>\n",
       "      <td>NaN</td>\n",
       "      <td>NaN</td>\n",
       "      <td>NaN</td>\n",
       "      <td>NaN</td>\n",
       "      <td>NaN</td>\n",
       "      <td>NaN</td>\n",
       "    </tr>\n",
       "    <tr>\n",
       "      <th>3</th>\n",
       "      <td>NaN</td>\n",
       "      <td>NaN</td>\n",
       "      <td>NaN</td>\n",
       "      <td>NaN</td>\n",
       "      <td>NaN</td>\n",
       "      <td>NaN</td>\n",
       "      <td>NaN</td>\n",
       "      <td>NaN</td>\n",
       "    </tr>\n",
       "    <tr>\n",
       "      <th>4</th>\n",
       "      <td>NaN</td>\n",
       "      <td>NaN</td>\n",
       "      <td>NaN</td>\n",
       "      <td>NaN</td>\n",
       "      <td>NaN</td>\n",
       "      <td>NaN</td>\n",
       "      <td>0.047291</td>\n",
       "      <td>NaN</td>\n",
       "    </tr>\n",
       "    <tr>\n",
       "      <th>5</th>\n",
       "      <td>NaN</td>\n",
       "      <td>NaN</td>\n",
       "      <td>NaN</td>\n",
       "      <td>NaN</td>\n",
       "      <td>NaN</td>\n",
       "      <td>NaN</td>\n",
       "      <td>NaN</td>\n",
       "      <td>NaN</td>\n",
       "    </tr>\n",
       "    <tr>\n",
       "      <th>6</th>\n",
       "      <td>NaN</td>\n",
       "      <td>NaN</td>\n",
       "      <td>NaN</td>\n",
       "      <td>NaN</td>\n",
       "      <td>NaN</td>\n",
       "      <td>NaN</td>\n",
       "      <td>NaN</td>\n",
       "      <td>NaN</td>\n",
       "    </tr>\n",
       "    <tr>\n",
       "      <th>7</th>\n",
       "      <td>NaN</td>\n",
       "      <td>NaN</td>\n",
       "      <td>NaN</td>\n",
       "      <td>0.047291</td>\n",
       "      <td>NaN</td>\n",
       "      <td>NaN</td>\n",
       "      <td>NaN</td>\n",
       "      <td>0.007784</td>\n",
       "    </tr>\n",
       "    <tr>\n",
       "      <th>8</th>\n",
       "      <td>NaN</td>\n",
       "      <td>NaN</td>\n",
       "      <td>NaN</td>\n",
       "      <td>NaN</td>\n",
       "      <td>NaN</td>\n",
       "      <td>NaN</td>\n",
       "      <td>0.007784</td>\n",
       "      <td>NaN</td>\n",
       "    </tr>\n",
       "  </tbody>\n",
       "</table>\n",
       "</div>"
      ],
      "text/plain": [
       "    1   2   3         4   5   6         7         8\n",
       "1 NaN NaN NaN       NaN NaN NaN       NaN       NaN\n",
       "2 NaN NaN NaN       NaN NaN NaN       NaN       NaN\n",
       "3 NaN NaN NaN       NaN NaN NaN       NaN       NaN\n",
       "4 NaN NaN NaN       NaN NaN NaN  0.047291       NaN\n",
       "5 NaN NaN NaN       NaN NaN NaN       NaN       NaN\n",
       "6 NaN NaN NaN       NaN NaN NaN       NaN       NaN\n",
       "7 NaN NaN NaN  0.047291 NaN NaN       NaN  0.007784\n",
       "8 NaN NaN NaN       NaN NaN NaN  0.007784       NaN"
      ]
     },
     "execution_count": 102,
     "metadata": {},
     "output_type": "execute_result"
    }
   ],
   "source": [
    "dunn1[dunn1<0.05]"
   ]
  },
  {
   "cell_type": "code",
   "execution_count": 103,
   "id": "2d1cd1ea",
   "metadata": {},
   "outputs": [
    {
     "data": {
      "text/plain": [
       "<AxesSubplot:>"
      ]
     },
     "execution_count": 103,
     "metadata": {},
     "output_type": "execute_result"
    },
    {
     "data": {
      "image/png": "[encoded data removed]",
      "text/plain": [
       "<Figure size 1440x720 with 2 Axes>"
      ]
     },
     "metadata": {},
     "output_type": "display_data"
    }
   ],
   "source": [
    "sns.heatmap(dunn1,annot=True)"
   ]
  },
  {
   "cell_type": "markdown",
   "id": "9f770e64",
   "metadata": {},
   "source": [
    "### INFERENCES:\n",
    "### Communication Skills and SQL are signicantly different from Big Data Tools.Hence for the role of a Data Analyst, both of these skills can be developed in a better way and all other skill sets are found to be similar as per the sample obtained."
   ]
  },
  {
   "cell_type": "code",
   "execution_count": 104,
   "id": "589e014b",
   "metadata": {},
   "outputs": [
    {
     "data": {
      "text/html": [
       "<div>\n",
       "<style scoped>\n",
       "    .dataframe tbody tr th:only-of-type {\n",
       "        vertical-align: middle;\n",
       "    }\n",
       "\n",
       "    .dataframe tbody tr th {\n",
       "        vertical-align: top;\n",
       "    }\n",
       "\n",
       "    .dataframe thead th {\n",
       "        text-align: right;\n",
       "    }\n",
       "</style>\n",
       "<table border=\"1\" class=\"dataframe\">\n",
       "  <thead>\n",
       "    <tr style=\"text-align: right;\">\n",
       "      <th></th>\n",
       "      <th>python</th>\n",
       "      <th>stats</th>\n",
       "      <th>analytical</th>\n",
       "      <th>communication</th>\n",
       "      <th>domain</th>\n",
       "      <th>visualisation</th>\n",
       "      <th>big data</th>\n",
       "      <th>sql</th>\n",
       "    </tr>\n",
       "  </thead>\n",
       "  <tbody>\n",
       "    <tr>\n",
       "      <th>count</th>\n",
       "      <td>11.000000</td>\n",
       "      <td>11.000000</td>\n",
       "      <td>11.000000</td>\n",
       "      <td>11.000000</td>\n",
       "      <td>11.000000</td>\n",
       "      <td>11.000000</td>\n",
       "      <td>11.000000</td>\n",
       "      <td>11.000000</td>\n",
       "    </tr>\n",
       "    <tr>\n",
       "      <th>mean</th>\n",
       "      <td>3.363636</td>\n",
       "      <td>2.727273</td>\n",
       "      <td>3.000000</td>\n",
       "      <td>3.454545</td>\n",
       "      <td>3.363636</td>\n",
       "      <td>3.181818</td>\n",
       "      <td>2.090909</td>\n",
       "      <td>3.636364</td>\n",
       "    </tr>\n",
       "    <tr>\n",
       "      <th>std</th>\n",
       "      <td>0.809040</td>\n",
       "      <td>0.786245</td>\n",
       "      <td>0.774597</td>\n",
       "      <td>0.820200</td>\n",
       "      <td>0.924416</td>\n",
       "      <td>1.078720</td>\n",
       "      <td>0.943880</td>\n",
       "      <td>0.674200</td>\n",
       "    </tr>\n",
       "    <tr>\n",
       "      <th>min</th>\n",
       "      <td>2.000000</td>\n",
       "      <td>2.000000</td>\n",
       "      <td>2.000000</td>\n",
       "      <td>2.000000</td>\n",
       "      <td>2.000000</td>\n",
       "      <td>2.000000</td>\n",
       "      <td>1.000000</td>\n",
       "      <td>3.000000</td>\n",
       "    </tr>\n",
       "    <tr>\n",
       "      <th>25%</th>\n",
       "      <td>3.000000</td>\n",
       "      <td>2.000000</td>\n",
       "      <td>2.500000</td>\n",
       "      <td>3.000000</td>\n",
       "      <td>3.000000</td>\n",
       "      <td>2.000000</td>\n",
       "      <td>1.500000</td>\n",
       "      <td>3.000000</td>\n",
       "    </tr>\n",
       "    <tr>\n",
       "      <th>50%</th>\n",
       "      <td>3.000000</td>\n",
       "      <td>3.000000</td>\n",
       "      <td>3.000000</td>\n",
       "      <td>3.000000</td>\n",
       "      <td>3.000000</td>\n",
       "      <td>3.000000</td>\n",
       "      <td>2.000000</td>\n",
       "      <td>4.000000</td>\n",
       "    </tr>\n",
       "    <tr>\n",
       "      <th>75%</th>\n",
       "      <td>4.000000</td>\n",
       "      <td>3.000000</td>\n",
       "      <td>3.500000</td>\n",
       "      <td>4.000000</td>\n",
       "      <td>4.000000</td>\n",
       "      <td>4.000000</td>\n",
       "      <td>2.500000</td>\n",
       "      <td>4.000000</td>\n",
       "    </tr>\n",
       "    <tr>\n",
       "      <th>max</th>\n",
       "      <td>5.000000</td>\n",
       "      <td>4.000000</td>\n",
       "      <td>4.000000</td>\n",
       "      <td>5.000000</td>\n",
       "      <td>5.000000</td>\n",
       "      <td>5.000000</td>\n",
       "      <td>4.000000</td>\n",
       "      <td>5.000000</td>\n",
       "    </tr>\n",
       "  </tbody>\n",
       "</table>\n",
       "</div>"
      ],
      "text/plain": [
       "          python      stats  analytical  communication     domain  \\\n",
       "count  11.000000  11.000000   11.000000      11.000000  11.000000   \n",
       "mean    3.363636   2.727273    3.000000       3.454545   3.363636   \n",
       "std     0.809040   0.786245    0.774597       0.820200   0.924416   \n",
       "min     2.000000   2.000000    2.000000       2.000000   2.000000   \n",
       "25%     3.000000   2.000000    2.500000       3.000000   3.000000   \n",
       "50%     3.000000   3.000000    3.000000       3.000000   3.000000   \n",
       "75%     4.000000   3.000000    3.500000       4.000000   4.000000   \n",
       "max     5.000000   4.000000    4.000000       5.000000   5.000000   \n",
       "\n",
       "       visualisation   big data        sql  \n",
       "count      11.000000  11.000000  11.000000  \n",
       "mean        3.181818   2.090909   3.636364  \n",
       "std         1.078720   0.943880   0.674200  \n",
       "min         2.000000   1.000000   3.000000  \n",
       "25%         2.000000   1.500000   3.000000  \n",
       "50%         3.000000   2.000000   4.000000  \n",
       "75%         4.000000   2.500000   4.000000  \n",
       "max         5.000000   4.000000   5.000000  "
      ]
     },
     "execution_count": 104,
     "metadata": {},
     "output_type": "execute_result"
    }
   ],
   "source": [
    "Data1.describe()"
   ]
  },
  {
   "cell_type": "markdown",
   "id": "d39baf24",
   "metadata": {},
   "source": [
    "## LOADING DATA SCIENTISTS RESPONSES"
   ]
  },
  {
   "cell_type": "code",
   "execution_count": 105,
   "id": "17e914d2",
   "metadata": {},
   "outputs": [],
   "source": [
    "Data2 = pd.read_csv('C:\\\\Users\\\\USER\\\\Desktop\\\\Data Scientist Data.csv')"
   ]
  },
  {
   "cell_type": "markdown",
   "id": "9d19f07a",
   "metadata": {},
   "source": [
    "## KURKSWALLIS TEST ON DATA SCIENTISTS RESPONSES "
   ]
  },
  {
   "cell_type": "code",
   "execution_count": 106,
   "id": "411847af",
   "metadata": {},
   "outputs": [
    {
     "name": "stdout",
     "output_type": "stream",
     "text": [
      "H-statistic:\t31.965063601721603\n",
      "P-value:\t4.1226095249262546e-05\n",
      "Reject NULL hypothesis - Significant differences exist between groups.\n"
     ]
    }
   ],
   "source": [
    "H, pval = mstats.kruskalwallis([Data2[col] for col in Data2.columns])\n",
    "\n",
    "\n",
    "print(\"H-statistic:\\t%s\\nP-value:\\t%s\" % (str(H),str(pval))) \n",
    "if pval < 0.05:\n",
    "    print(\"Reject NULL hypothesis - Significant differences exist between groups.\")\n",
    "if pval > 0.05:\n",
    "    print(\"Accept NULL hypothesis - No significant difference between groups.\")"
   ]
  },
  {
   "cell_type": "markdown",
   "id": "7387dc76",
   "metadata": {},
   "source": [
    "### As p-value < 0.05, there is significant difference between the skillsets of a Data Scientist.In order to identify the group, we will perform Dunn's Test."
   ]
  },
  {
   "cell_type": "code",
   "execution_count": 107,
   "id": "f7e2c32c",
   "metadata": {},
   "outputs": [],
   "source": [
    "a2=list(Data2['python'].values)\n",
    "b2=list(Data2['stats'].values)\n",
    "c2=list(Data2['analytical'].values)\n",
    "d2=list(Data2['communication'].values)\n",
    "e2=list(Data2['domain'].values)\n",
    "f2=list(Data2['visualisation'].values)\n",
    "g2=list(Data2['big data'].values)\n",
    "h2=list(Data2['sql'].values)\n",
    "group2=[a2,b2,c2,d2,e2,f2,g2,h2]"
   ]
  },
  {
   "cell_type": "markdown",
   "id": "ffcd0f3c",
   "metadata": {},
   "source": [
    "### DUNN'S TEST"
   ]
  },
  {
   "cell_type": "code",
   "execution_count": 108,
   "id": "9f29bb81",
   "metadata": {},
   "outputs": [],
   "source": [
    "dunn2=sp.posthoc_dunn(group2,p_adjust='bonferroni')"
   ]
  },
  {
   "cell_type": "code",
   "execution_count": 109,
   "id": "33c6471c",
   "metadata": {},
   "outputs": [
    {
     "data": {
      "text/html": [
       "<div>\n",
       "<style scoped>\n",
       "    .dataframe tbody tr th:only-of-type {\n",
       "        vertical-align: middle;\n",
       "    }\n",
       "\n",
       "    .dataframe tbody tr th {\n",
       "        vertical-align: top;\n",
       "    }\n",
       "\n",
       "    .dataframe thead th {\n",
       "        text-align: right;\n",
       "    }\n",
       "</style>\n",
       "<table border=\"1\" class=\"dataframe\">\n",
       "  <thead>\n",
       "    <tr style=\"text-align: right;\">\n",
       "      <th></th>\n",
       "      <th>1</th>\n",
       "      <th>2</th>\n",
       "      <th>3</th>\n",
       "      <th>4</th>\n",
       "      <th>5</th>\n",
       "      <th>6</th>\n",
       "      <th>7</th>\n",
       "      <th>8</th>\n",
       "    </tr>\n",
       "  </thead>\n",
       "  <tbody>\n",
       "    <tr>\n",
       "      <th>1</th>\n",
       "      <td>1.000000</td>\n",
       "      <td>1.000000</td>\n",
       "      <td>1.000000</td>\n",
       "      <td>0.588369</td>\n",
       "      <td>1.000000</td>\n",
       "      <td>1.000000</td>\n",
       "      <td>0.873769</td>\n",
       "      <td>1.000000</td>\n",
       "    </tr>\n",
       "    <tr>\n",
       "      <th>2</th>\n",
       "      <td>1.000000</td>\n",
       "      <td>1.000000</td>\n",
       "      <td>1.000000</td>\n",
       "      <td>1.000000</td>\n",
       "      <td>0.230353</td>\n",
       "      <td>1.000000</td>\n",
       "      <td>0.004177</td>\n",
       "      <td>0.230353</td>\n",
       "    </tr>\n",
       "    <tr>\n",
       "      <th>3</th>\n",
       "      <td>1.000000</td>\n",
       "      <td>1.000000</td>\n",
       "      <td>1.000000</td>\n",
       "      <td>1.000000</td>\n",
       "      <td>0.864956</td>\n",
       "      <td>1.000000</td>\n",
       "      <td>0.026281</td>\n",
       "      <td>0.864956</td>\n",
       "    </tr>\n",
       "    <tr>\n",
       "      <th>4</th>\n",
       "      <td>0.588369</td>\n",
       "      <td>1.000000</td>\n",
       "      <td>1.000000</td>\n",
       "      <td>1.000000</td>\n",
       "      <td>0.025905</td>\n",
       "      <td>1.000000</td>\n",
       "      <td>0.000227</td>\n",
       "      <td>0.025905</td>\n",
       "    </tr>\n",
       "    <tr>\n",
       "      <th>5</th>\n",
       "      <td>1.000000</td>\n",
       "      <td>0.230353</td>\n",
       "      <td>0.864956</td>\n",
       "      <td>0.025905</td>\n",
       "      <td>1.000000</td>\n",
       "      <td>1.000000</td>\n",
       "      <td>1.000000</td>\n",
       "      <td>1.000000</td>\n",
       "    </tr>\n",
       "    <tr>\n",
       "      <th>6</th>\n",
       "      <td>1.000000</td>\n",
       "      <td>1.000000</td>\n",
       "      <td>1.000000</td>\n",
       "      <td>1.000000</td>\n",
       "      <td>1.000000</td>\n",
       "      <td>1.000000</td>\n",
       "      <td>0.233112</td>\n",
       "      <td>1.000000</td>\n",
       "    </tr>\n",
       "    <tr>\n",
       "      <th>7</th>\n",
       "      <td>0.873769</td>\n",
       "      <td>0.004177</td>\n",
       "      <td>0.026281</td>\n",
       "      <td>0.000227</td>\n",
       "      <td>1.000000</td>\n",
       "      <td>0.233112</td>\n",
       "      <td>1.000000</td>\n",
       "      <td>1.000000</td>\n",
       "    </tr>\n",
       "    <tr>\n",
       "      <th>8</th>\n",
       "      <td>1.000000</td>\n",
       "      <td>0.230353</td>\n",
       "      <td>0.864956</td>\n",
       "      <td>0.025905</td>\n",
       "      <td>1.000000</td>\n",
       "      <td>1.000000</td>\n",
       "      <td>1.000000</td>\n",
       "      <td>1.000000</td>\n",
       "    </tr>\n",
       "  </tbody>\n",
       "</table>\n",
       "</div>"
      ],
      "text/plain": [
       "          1         2         3         4         5         6         7  \\\n",
       "1  1.000000  1.000000  1.000000  0.588369  1.000000  1.000000  0.873769   \n",
       "2  1.000000  1.000000  1.000000  1.000000  0.230353  1.000000  0.004177   \n",
       "3  1.000000  1.000000  1.000000  1.000000  0.864956  1.000000  0.026281   \n",
       "4  0.588369  1.000000  1.000000  1.000000  0.025905  1.000000  0.000227   \n",
       "5  1.000000  0.230353  0.864956  0.025905  1.000000  1.000000  1.000000   \n",
       "6  1.000000  1.000000  1.000000  1.000000  1.000000  1.000000  0.233112   \n",
       "7  0.873769  0.004177  0.026281  0.000227  1.000000  0.233112  1.000000   \n",
       "8  1.000000  0.230353  0.864956  0.025905  1.000000  1.000000  1.000000   \n",
       "\n",
       "          8  \n",
       "1  1.000000  \n",
       "2  0.230353  \n",
       "3  0.864956  \n",
       "4  0.025905  \n",
       "5  1.000000  \n",
       "6  1.000000  \n",
       "7  1.000000  \n",
       "8  1.000000  "
      ]
     },
     "execution_count": 109,
     "metadata": {},
     "output_type": "execute_result"
    }
   ],
   "source": [
    "dunn2"
   ]
  },
  {
   "cell_type": "code",
   "execution_count": 110,
   "id": "3c1fcd86",
   "metadata": {},
   "outputs": [
    {
     "data": {
      "text/html": [
       "<div>\n",
       "<style scoped>\n",
       "    .dataframe tbody tr th:only-of-type {\n",
       "        vertical-align: middle;\n",
       "    }\n",
       "\n",
       "    .dataframe tbody tr th {\n",
       "        vertical-align: top;\n",
       "    }\n",
       "\n",
       "    .dataframe thead th {\n",
       "        text-align: right;\n",
       "    }\n",
       "</style>\n",
       "<table border=\"1\" class=\"dataframe\">\n",
       "  <thead>\n",
       "    <tr style=\"text-align: right;\">\n",
       "      <th></th>\n",
       "      <th>1</th>\n",
       "      <th>2</th>\n",
       "      <th>3</th>\n",
       "      <th>4</th>\n",
       "      <th>5</th>\n",
       "      <th>6</th>\n",
       "      <th>7</th>\n",
       "      <th>8</th>\n",
       "    </tr>\n",
       "  </thead>\n",
       "  <tbody>\n",
       "    <tr>\n",
       "      <th>1</th>\n",
       "      <td>NaN</td>\n",
       "      <td>NaN</td>\n",
       "      <td>NaN</td>\n",
       "      <td>NaN</td>\n",
       "      <td>NaN</td>\n",
       "      <td>NaN</td>\n",
       "      <td>NaN</td>\n",
       "      <td>NaN</td>\n",
       "    </tr>\n",
       "    <tr>\n",
       "      <th>2</th>\n",
       "      <td>NaN</td>\n",
       "      <td>NaN</td>\n",
       "      <td>NaN</td>\n",
       "      <td>NaN</td>\n",
       "      <td>NaN</td>\n",
       "      <td>NaN</td>\n",
       "      <td>0.004177</td>\n",
       "      <td>NaN</td>\n",
       "    </tr>\n",
       "    <tr>\n",
       "      <th>3</th>\n",
       "      <td>NaN</td>\n",
       "      <td>NaN</td>\n",
       "      <td>NaN</td>\n",
       "      <td>NaN</td>\n",
       "      <td>NaN</td>\n",
       "      <td>NaN</td>\n",
       "      <td>0.026281</td>\n",
       "      <td>NaN</td>\n",
       "    </tr>\n",
       "    <tr>\n",
       "      <th>4</th>\n",
       "      <td>NaN</td>\n",
       "      <td>NaN</td>\n",
       "      <td>NaN</td>\n",
       "      <td>NaN</td>\n",
       "      <td>0.025905</td>\n",
       "      <td>NaN</td>\n",
       "      <td>0.000227</td>\n",
       "      <td>0.025905</td>\n",
       "    </tr>\n",
       "    <tr>\n",
       "      <th>5</th>\n",
       "      <td>NaN</td>\n",
       "      <td>NaN</td>\n",
       "      <td>NaN</td>\n",
       "      <td>0.025905</td>\n",
       "      <td>NaN</td>\n",
       "      <td>NaN</td>\n",
       "      <td>NaN</td>\n",
       "      <td>NaN</td>\n",
       "    </tr>\n",
       "    <tr>\n",
       "      <th>6</th>\n",
       "      <td>NaN</td>\n",
       "      <td>NaN</td>\n",
       "      <td>NaN</td>\n",
       "      <td>NaN</td>\n",
       "      <td>NaN</td>\n",
       "      <td>NaN</td>\n",
       "      <td>NaN</td>\n",
       "      <td>NaN</td>\n",
       "    </tr>\n",
       "    <tr>\n",
       "      <th>7</th>\n",
       "      <td>NaN</td>\n",
       "      <td>0.004177</td>\n",
       "      <td>0.026281</td>\n",
       "      <td>0.000227</td>\n",
       "      <td>NaN</td>\n",
       "      <td>NaN</td>\n",
       "      <td>NaN</td>\n",
       "      <td>NaN</td>\n",
       "    </tr>\n",
       "    <tr>\n",
       "      <th>8</th>\n",
       "      <td>NaN</td>\n",
       "      <td>NaN</td>\n",
       "      <td>NaN</td>\n",
       "      <td>0.025905</td>\n",
       "      <td>NaN</td>\n",
       "      <td>NaN</td>\n",
       "      <td>NaN</td>\n",
       "      <td>NaN</td>\n",
       "    </tr>\n",
       "  </tbody>\n",
       "</table>\n",
       "</div>"
      ],
      "text/plain": [
       "    1         2         3         4         5   6         7         8\n",
       "1 NaN       NaN       NaN       NaN       NaN NaN       NaN       NaN\n",
       "2 NaN       NaN       NaN       NaN       NaN NaN  0.004177       NaN\n",
       "3 NaN       NaN       NaN       NaN       NaN NaN  0.026281       NaN\n",
       "4 NaN       NaN       NaN       NaN  0.025905 NaN  0.000227  0.025905\n",
       "5 NaN       NaN       NaN  0.025905       NaN NaN       NaN       NaN\n",
       "6 NaN       NaN       NaN       NaN       NaN NaN       NaN       NaN\n",
       "7 NaN  0.004177  0.026281  0.000227       NaN NaN       NaN       NaN\n",
       "8 NaN       NaN       NaN  0.025905       NaN NaN       NaN       NaN"
      ]
     },
     "execution_count": 110,
     "metadata": {},
     "output_type": "execute_result"
    }
   ],
   "source": [
    "dunn2[dunn2<0.05]"
   ]
  },
  {
   "cell_type": "code",
   "execution_count": 111,
   "id": "4f8184e3",
   "metadata": {},
   "outputs": [
    {
     "data": {
      "text/plain": [
       "<AxesSubplot:>"
      ]
     },
     "execution_count": 111,
     "metadata": {},
     "output_type": "execute_result"
    },
    {
     "data": {
      "image/png": "[encoded data removed]",
      "text/plain": [
       "<Figure size 1440x720 with 2 Axes>"
      ]
     },
     "metadata": {},
     "output_type": "display_data"
    }
   ],
   "source": [
    "sns.heatmap(dunn2,annot=True)"
   ]
  },
  {
   "cell_type": "markdown",
   "id": "6ac9686c",
   "metadata": {},
   "source": [
    "### INFERENCES:\n",
    "### 1.Stats,Machine Learning,Analytical Skills and Communication is statistically significant from Big Data Analytical Tools.\n",
    "### 2.Communication skills are more important than SQL,Domain knowledge and Big Data Analytical Tools as per the sample survey\n",
    "### 3.For a Data Scientist, we can conclude that Stats,Machine Learning,Analytical Skills and Communication skills are important as per the sample survey"
   ]
  },
  {
   "cell_type": "markdown",
   "id": "524b8e3e",
   "metadata": {},
   "source": [
    "# SKILL COMPARISING BETWEEN DATA SCIENTIST AND DATA ANALYST\n",
    "# USING HYPOTHESIS TESTING \n"
   ]
  },
  {
   "cell_type": "markdown",
   "id": "6ce0ddc1",
   "metadata": {},
   "source": [
    "We are comparing their skills to understand wheather they are significantly different or not.Through this we are trying to give an insight to prioritise the skill required for each job role."
   ]
  },
  {
   "cell_type": "code",
   "execution_count": 112,
   "id": "b92bb269",
   "metadata": {},
   "outputs": [],
   "source": [
    "import matplotlib.pyplot as plt\n",
    "import numpy as np\n",
    "import pandas as pd\n",
    "import seaborn as sns\n",
    "import warnings\n",
    "from pylab import rcParams\n",
    "from scipy.stats import f_oneway\n",
    "from scipy.stats import mannwhitneyu"
   ]
  },
  {
   "cell_type": "code",
   "execution_count": 113,
   "id": "2e9beb77",
   "metadata": {},
   "outputs": [],
   "source": [
    "%matplotlib inline\n",
    "warnings.filterwarnings(\"ignore\")\n",
    "rcParams['figure.figsize'] = 20,10\n",
    "rcParams['font.size'] = 30\n",
    "sns.set()\n",
    "np.random.seed(8)"
   ]
  },
  {
   "cell_type": "code",
   "execution_count": 114,
   "id": "ca7f60cc",
   "metadata": {},
   "outputs": [],
   "source": [
    "def plot_distribution(inp):\n",
    "    plt.figure()\n",
    "    ax = sns.distplot(inp)\n",
    "    plt.axvline(np.median(inp), color=\"k\", linestyle=\"dashed\", linewidth=5)\n",
    "    _, max_ = plt.ylim()\n",
    "    plt.text(\n",
    "        inp.median() + inp.median() / 10,\n",
    "        max_ - max_ / 10,\n",
    "        \"Median: {:.2f}\".format(inp.mean()),\n",
    "    )\n",
    "    return plt.figure"
   ]
  },
  {
   "cell_type": "code",
   "execution_count": 115,
   "id": "74faaf13",
   "metadata": {},
   "outputs": [],
   "source": [
    "Data1\n",
    "py = Data1['python'].values"
   ]
  },
  {
   "cell_type": "code",
   "execution_count": 116,
   "id": "4f4d93a2",
   "metadata": {},
   "outputs": [],
   "source": [
    "st= Data2['python'].values"
   ]
  },
  {
   "cell_type": "markdown",
   "id": "e044c474",
   "metadata": {},
   "source": []
  },
  {
   "cell_type": "code",
   "execution_count": 117,
   "id": "421656ad",
   "metadata": {},
   "outputs": [
    {
     "data": {
      "text/plain": [
       "<matplotlib.lines.Line2D at 0x1dc48ae2e80>"
      ]
     },
     "execution_count": 117,
     "metadata": {},
     "output_type": "execute_result"
    },
    {
     "data": {
      "image/png": "[encoded data removed]",
      "text/plain": [
       "<Figure size 1440x720 with 1 Axes>"
      ]
     },
     "metadata": {},
     "output_type": "display_data"
    }
   ],
   "source": [
    "plt.figure()\n",
    "ax1 = sns.distplot(st)\n",
    "ax2 = sns.distplot(py)\n",
    "plt.axvline(np.median(st), color='b', linestyle='dashed', linewidth=5)\n",
    "plt.axvline(np.median(py), color='orange', linestyle='dashed', linewidth=5)"
   ]
  },
  {
   "cell_type": "code",
   "execution_count": 118,
   "id": "51be3f90",
   "metadata": {},
   "outputs": [],
   "source": [
    "def compare_2_groups(arr_1, arr_2, alpha, sample_size):\n",
    "    stat, p = mannwhitneyu(arr_1, arr_2,alternative='two-sided')\n",
    "    print('Statistics=%.3f, p=%.3f' % (stat, p))\n",
    "    if p > alpha:\n",
    "        print('Same distributions (fail to reject H0)')\n",
    "    else:\n",
    "        print('Different distributions (reject H0)')"
   ]
  },
  {
   "cell_type": "code",
   "execution_count": 119,
   "id": "8b70113b",
   "metadata": {},
   "outputs": [],
   "source": [
    "d = Data1['python'].values"
   ]
  },
  {
   "cell_type": "code",
   "execution_count": 120,
   "id": "4d84dd8e",
   "metadata": {},
   "outputs": [],
   "source": [
    "e = Data2['python'].values"
   ]
  },
  {
   "cell_type": "code",
   "execution_count": 121,
   "id": "10c4db18",
   "metadata": {},
   "outputs": [
    {
     "name": "stdout",
     "output_type": "stream",
     "text": [
      "Statistics=48.000, p=0.231\n",
      "Same distributions (fail to reject H0)\n"
     ]
    }
   ],
   "source": [
    "compare_2_groups(d,e,0.05,11)"
   ]
  },
  {
   "cell_type": "markdown",
   "id": "88aea5aa",
   "metadata": {},
   "source": [
    "Here the Pvalue which we got is 0.231(>0.05), from that we conclude that null hypothesis is accepted. This clearly proves that both job roles require almost similar approach to python."
   ]
  },
  {
   "cell_type": "markdown",
   "id": "3ab33d46",
   "metadata": {},
   "source": [
    "# Statistics and machine learning"
   ]
  },
  {
   "cell_type": "code",
   "execution_count": 122,
   "id": "31d960f0",
   "metadata": {},
   "outputs": [],
   "source": [
    "py = Data1['stats'].values"
   ]
  },
  {
   "cell_type": "code",
   "execution_count": 123,
   "id": "b944cf9b",
   "metadata": {},
   "outputs": [],
   "source": [
    "st= Data2['stats'].values"
   ]
  },
  {
   "cell_type": "code",
   "execution_count": 124,
   "id": "bca4fd0b",
   "metadata": {},
   "outputs": [
    {
     "data": {
      "text/plain": [
       "<matplotlib.lines.Line2D at 0x1dc48b34340>"
      ]
     },
     "execution_count": 124,
     "metadata": {},
     "output_type": "execute_result"
    },
    {
     "data": {
      "image/png": "[encoded data removed]",
      "text/plain": [
       "<Figure size 1440x720 with 1 Axes>"
      ]
     },
     "metadata": {},
     "output_type": "display_data"
    }
   ],
   "source": [
    "plt.figure()\n",
    "ax1 = sns.distplot(st)\n",
    "ax2 = sns.distplot(py)\n",
    "plt.axvline(np.median(st), color='b', linestyle='dashed', linewidth=5)\n",
    "plt.axvline(np.median(py), color='orange', linestyle='dashed', linewidth=5)"
   ]
  },
  {
   "cell_type": "code",
   "execution_count": 125,
   "id": "deb76850",
   "metadata": {},
   "outputs": [
    {
     "name": "stdout",
     "output_type": "stream",
     "text": [
      "Statistics=14.000, p=0.001\n",
      "Different distributions (reject H0)\n"
     ]
    }
   ],
   "source": [
    "compare_2_groups(py,st,0.05,11)"
   ]
  },
  {
   "cell_type": "markdown",
   "id": "36806071",
   "metadata": {},
   "source": [
    "Here the Pvalue which is less than 0.05 and so the null hypothesis is rejected. This shows that both job roles are not having similar approach towards stats and machine learning.\n",
    "As we seen that they are significantly different. Data scientist having greater mean shows that knwoledge of statistics and Machine learning of Data scientist should be  more than that of  Data analyst."
   ]
  },
  {
   "cell_type": "markdown",
   "id": "f43a0720",
   "metadata": {},
   "source": [
    "# Analytical skills"
   ]
  },
  {
   "cell_type": "code",
   "execution_count": 126,
   "id": "b922c470",
   "metadata": {},
   "outputs": [],
   "source": [
    "py = Data1['analytical'].values"
   ]
  },
  {
   "cell_type": "code",
   "execution_count": 127,
   "id": "01023615",
   "metadata": {},
   "outputs": [],
   "source": [
    "st = Data2['analytical'].values"
   ]
  },
  {
   "cell_type": "code",
   "execution_count": 128,
   "id": "567df91c",
   "metadata": {},
   "outputs": [
    {
     "data": {
      "text/plain": [
       "<matplotlib.lines.Line2D at 0x1dc48ea1040>"
      ]
     },
     "execution_count": 128,
     "metadata": {},
     "output_type": "execute_result"
    },
    {
     "data": {
      "image/png": "[encoded data removed]",
      "text/plain": [
       "<Figure size 1440x720 with 1 Axes>"
      ]
     },
     "metadata": {},
     "output_type": "display_data"
    }
   ],
   "source": [
    "plt.figure()\n",
    "ax1 = sns.distplot(st)\n",
    "ax2 = sns.distplot(py)\n",
    "plt.axvline(np.median(st), color='b', linestyle='dashed', linewidth=5)\n",
    "plt.axvline(np.median(py), color='orange', linestyle='dashed', linewidth=5)"
   ]
  },
  {
   "cell_type": "code",
   "execution_count": 129,
   "id": "cfb1abfd",
   "metadata": {},
   "outputs": [
    {
     "name": "stdout",
     "output_type": "stream",
     "text": [
      "Statistics=23.000, p=0.005\n",
      "Different distributions (reject H0)\n"
     ]
    }
   ],
   "source": [
    "compare_2_groups(py,st,0.05,11)"
   ]
  },
  {
   "cell_type": "markdown",
   "id": "e3582b65",
   "metadata": {},
   "source": [
    "Here the Pvalue which is less than 0.05 and so the null hypothesis is rejected. This shows that both job roles are not having similar approach towards analytical skills.\n",
    "As we seen that they are significantly different. Data scientist having greater mean shows that knwoledge of analyticals of Data scientist should be  more than that of  Data analyst."
   ]
  },
  {
   "cell_type": "markdown",
   "id": "31891314",
   "metadata": {},
   "source": [
    "# COMMUNICATION\n"
   ]
  },
  {
   "cell_type": "code",
   "execution_count": 130,
   "id": "71efab8f",
   "metadata": {},
   "outputs": [],
   "source": [
    "py = Data1['communication'].values\n",
    "st= Data2['communication'].values"
   ]
  },
  {
   "cell_type": "code",
   "execution_count": 131,
   "id": "a1f01eaa",
   "metadata": {},
   "outputs": [
    {
     "data": {
      "text/plain": [
       "<matplotlib.lines.Line2D at 0x1dc494c0b80>"
      ]
     },
     "execution_count": 131,
     "metadata": {},
     "output_type": "execute_result"
    },
    {
     "data": {
      "image/png": "[encoded data removed]",
      "text/plain": [
       "<Figure size 1440x720 with 1 Axes>"
      ]
     },
     "metadata": {},
     "output_type": "display_data"
    }
   ],
   "source": [
    "plt.figure()\n",
    "ax1 = sns.distplot(st)\n",
    "ax2 = sns.distplot(py)\n",
    "plt.axvline(np.median(st), color='b', linestyle='dashed', linewidth=5)\n",
    "plt.axvline(np.median(py), color='orange', linestyle='dashed', linewidth=5)"
   ]
  },
  {
   "cell_type": "code",
   "execution_count": 132,
   "id": "3996e25b",
   "metadata": {},
   "outputs": [
    {
     "name": "stdout",
     "output_type": "stream",
     "text": [
      "Statistics=26.000, p=0.008\n",
      "Different distributions (reject H0)\n"
     ]
    }
   ],
   "source": [
    "compare_2_groups(py,st,0.05,11)"
   ]
  },
  {
   "cell_type": "markdown",
   "id": "c65f5973",
   "metadata": {},
   "source": [
    "Here the Pvalue which is less than 0.05 and so the null hypothesis is rejected. This shows that both job roles are not having similar approach towards Communication skills.\n",
    "As we seen that they are significantly different. Data scientist having greater mean shows that communication of Data scientist should be  more than that of  Data analyst."
   ]
  },
  {
   "cell_type": "markdown",
   "id": "5a33e780",
   "metadata": {},
   "source": [
    "# DOMAIN"
   ]
  },
  {
   "cell_type": "code",
   "execution_count": 133,
   "id": "89509e14",
   "metadata": {},
   "outputs": [],
   "source": [
    "py = Data1['domain'].values"
   ]
  },
  {
   "cell_type": "code",
   "execution_count": 134,
   "id": "3becc3ff",
   "metadata": {},
   "outputs": [],
   "source": [
    "st= Data2['domain'].values"
   ]
  },
  {
   "cell_type": "code",
   "execution_count": 135,
   "id": "61de26aa",
   "metadata": {},
   "outputs": [
    {
     "data": {
      "text/plain": [
       "<matplotlib.lines.Line2D at 0x1dc49495f40>"
      ]
     },
     "execution_count": 135,
     "metadata": {},
     "output_type": "execute_result"
    },
    {
     "data": {
      "image/png": "[encoded data removed]",
      "text/plain": [
       "<Figure size 1440x720 with 1 Axes>"
      ]
     },
     "metadata": {},
     "output_type": "display_data"
    }
   ],
   "source": [
    "plt.figure()\n",
    "ax1 = sns.distplot(st)\n",
    "ax2 = sns.distplot(py)\n",
    "plt.axvline(np.median(st), color='b', linestyle='dashed', linewidth=5)\n",
    "plt.axvline(np.median(py), color='orange', linestyle='dashed', linewidth=5)"
   ]
  },
  {
   "cell_type": "code",
   "execution_count": 136,
   "id": "a2a1dcb3",
   "metadata": {},
   "outputs": [
    {
     "name": "stdout",
     "output_type": "stream",
     "text": [
      "Statistics=64.000, p=0.919\n",
      "Same distributions (fail to reject H0)\n"
     ]
    }
   ],
   "source": [
    "compare_2_groups(py,st,0.05,11)"
   ]
  },
  {
   "cell_type": "markdown",
   "id": "7061550d",
   "metadata": {},
   "source": [
    "Here the Pvalue which we got is 0.865(>0.05), from that we conclude that null hypothesis is accepted. This clearly proves that both job roles require almost similar approach to Domain knowledge."
   ]
  },
  {
   "cell_type": "markdown",
   "id": "94356b48",
   "metadata": {},
   "source": [
    "# Visualisation"
   ]
  },
  {
   "cell_type": "code",
   "execution_count": 137,
   "id": "f9f9139d",
   "metadata": {},
   "outputs": [],
   "source": [
    "py = Data1['visualisation'].values"
   ]
  },
  {
   "cell_type": "code",
   "execution_count": 138,
   "id": "6900d78f",
   "metadata": {},
   "outputs": [],
   "source": [
    "st = Data2['visualisation'].values"
   ]
  },
  {
   "cell_type": "code",
   "execution_count": 139,
   "id": "b7cad75c",
   "metadata": {},
   "outputs": [
    {
     "data": {
      "text/plain": [
       "<matplotlib.lines.Line2D at 0x1dc4957ffd0>"
      ]
     },
     "execution_count": 139,
     "metadata": {},
     "output_type": "execute_result"
    },
    {
     "data": {
      "image/png": "[encoded data removed]",
      "text/plain": [
       "<Figure size 1440x720 with 1 Axes>"
      ]
     },
     "metadata": {},
     "output_type": "display_data"
    }
   ],
   "source": [
    "plt.figure()\n",
    "ax1 = sns.distplot(st)\n",
    "ax2 = sns.distplot(py)\n",
    "plt.axvline(np.median(st), color='b', linestyle='dashed', linewidth=5)\n",
    "plt.axvline(np.median(py), color='orange', linestyle='dashed', linewidth=5)"
   ]
  },
  {
   "cell_type": "code",
   "execution_count": 140,
   "id": "37ec1d59",
   "metadata": {},
   "outputs": [
    {
     "name": "stdout",
     "output_type": "stream",
     "text": [
      "Statistics=43.000, p=0.143\n",
      "Same distributions (fail to reject H0)\n"
     ]
    }
   ],
   "source": [
    "compare_2_groups(py,st,0.05,11)"
   ]
  },
  {
   "cell_type": "markdown",
   "id": "68aee378",
   "metadata": {},
   "source": [
    "Here the Pvalue which we got is 0.1(>0.05), from that we conclude that null hypothesis is accepted. This clearly proves that both job roles require almost similar approach to visualisation knowledge."
   ]
  },
  {
   "cell_type": "markdown",
   "id": "32925ad2",
   "metadata": {},
   "source": [
    "# BIG DATA TOOLS"
   ]
  },
  {
   "cell_type": "code",
   "execution_count": 141,
   "id": "c7d9259b",
   "metadata": {},
   "outputs": [],
   "source": [
    "py = Data1['big data'].values"
   ]
  },
  {
   "cell_type": "code",
   "execution_count": 142,
   "id": "99a3e835",
   "metadata": {},
   "outputs": [],
   "source": [
    "st = Data2['big data'].values"
   ]
  },
  {
   "cell_type": "code",
   "execution_count": 143,
   "id": "698b499b",
   "metadata": {},
   "outputs": [
    {
     "data": {
      "text/plain": [
       "<matplotlib.lines.Line2D at 0x1dc498cfbe0>"
      ]
     },
     "execution_count": 143,
     "metadata": {},
     "output_type": "execute_result"
    },
    {
     "data": {
      "image/png": "[encoded data removed]",
      "text/plain": [
       "<Figure size 1440x720 with 1 Axes>"
      ]
     },
     "metadata": {},
     "output_type": "display_data"
    }
   ],
   "source": [
    "plt.figure()\n",
    "ax1 = sns.distplot(st)\n",
    "ax2 = sns.distplot(py)\n",
    "plt.axvline(np.median(st), color='b', linestyle='dashed', linewidth=5)\n",
    "plt.axvline(np.median(py), color='orange', linestyle='dashed', linewidth=5)"
   ]
  },
  {
   "cell_type": "code",
   "execution_count": 144,
   "id": "af661ea3",
   "metadata": {},
   "outputs": [
    {
     "name": "stdout",
     "output_type": "stream",
     "text": [
      "Statistics=24.500, p=0.007\n",
      "Different distributions (reject H0)\n"
     ]
    }
   ],
   "source": [
    "compare_2_groups(py,st,0.05,11)"
   ]
  },
  {
   "cell_type": "markdown",
   "id": "5e7677a3",
   "metadata": {},
   "source": [
    "Here the Pvalue which is less than 0.05 and so the null hypothesis is rejected. This shows that both job roles are not having similar approach towards bigdata.\n",
    "As we seen that they are significantly different. Data scientist having greater mean shows that knwoledge of big data tools of Data scientist should be  more than that of  Data analyst."
   ]
  },
  {
   "cell_type": "markdown",
   "id": "e80322dc",
   "metadata": {},
   "source": [
    "# SQL"
   ]
  },
  {
   "cell_type": "code",
   "execution_count": 145,
   "id": "971013b9",
   "metadata": {},
   "outputs": [],
   "source": [
    "py = Data1['sql'].values"
   ]
  },
  {
   "cell_type": "code",
   "execution_count": 146,
   "id": "ee5272db",
   "metadata": {},
   "outputs": [],
   "source": [
    "st = Data2['sql'].values"
   ]
  },
  {
   "cell_type": "code",
   "execution_count": 147,
   "id": "411af221",
   "metadata": {},
   "outputs": [
    {
     "data": {
      "text/plain": [
       "<matplotlib.lines.Line2D at 0x1dc491b9c10>"
      ]
     },
     "execution_count": 147,
     "metadata": {},
     "output_type": "execute_result"
    },
    {
     "data": {
      "image/png": "[encoded data removed]",
      "text/plain": [
       "<Figure size 1440x720 with 1 Axes>"
      ]
     },
     "metadata": {},
     "output_type": "display_data"
    }
   ],
   "source": [
    "plt.figure()\n",
    "ax1 = sns.distplot(st)\n",
    "ax2 = sns.distplot(py)\n",
    "plt.axvline(np.median(st), color='b', linestyle='dashed', linewidth=5)\n",
    "plt.axvline(np.median(py), color='orange', linestyle='dashed', linewidth=5)"
   ]
  },
  {
   "cell_type": "code",
   "execution_count": 148,
   "id": "98dbd456",
   "metadata": {},
   "outputs": [
    {
     "name": "stdout",
     "output_type": "stream",
     "text": [
      "Statistics=77.000, p=0.464\n",
      "Same distributions (fail to reject H0)\n"
     ]
    }
   ],
   "source": [
    "compare_2_groups(py,st,0.05,11)"
   ]
  },
  {
   "cell_type": "markdown",
   "id": "70090a0d",
   "metadata": {},
   "source": [
    "Here the Pvalue which we got is 0.387(>0.05), from that we conclude that null hypothesis is accepted. This clearly proves that both job roles require almost similar approach to SQL knowledge."
   ]
  },
  {
   "cell_type": "markdown",
   "id": "db0028de",
   "metadata": {},
   "source": [
    "### CONCLUSION"
   ]
  },
  {
   "cell_type": "markdown",
   "id": "04f4191c",
   "metadata": {},
   "source": [
    "#### After collecting responses from professionals based on different job roles and the level of skills required for that job role and performing statistical tests on them,we conclude that:\n",
    "#### 1.Using Estimation,the confidence intervals of each skill under each job role have been calculated with 95% confidence interval to show the representive nature of collected data.\n",
    "#### 2.Using Kurkswallis test,for each job role which all skills are more important have also been identified according to the collected sample.\n",
    "#### 3.There is significant difference in skills required for each job role and among them Data Analyst and Data Scientist were found some similarity and been cleared using Hypothesis Testing."
   ]
  },
  {
   "cell_type": "code",
   "execution_count": null,
   "id": "91db0e70",
   "metadata": {},
   "outputs": [],
   "source": []
  }
 ],
 "metadata": {
  "kernelspec": {
   "display_name": "Python 3 (ipykernel)",
   "language": "python",
   "name": "python3"
  },
  "language_info": {
   "codemirror_mode": {
    "name": "ipython",
    "version": 3
   },
   "file_extension": ".py",
   "mimetype": "text/x-python",
   "name": "python",
   "nbconvert_exporter": "python",
   "pygments_lexer": "ipython3",
   "version": "3.9.12"
  }
 },
 "nbformat": 4,
 "nbformat_minor": 5
}
